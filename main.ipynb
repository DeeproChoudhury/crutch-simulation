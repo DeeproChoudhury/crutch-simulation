{
  "nbformat": 4,
  "nbformat_minor": 0,
  "metadata": {
    "colab": {
      "provenance": []
    },
    "kernelspec": {
      "name": "python3",
      "display_name": "Python 3"
    },
    "language_info": {
      "name": "python"
    }
  },
  "cells": [
    {
      "cell_type": "markdown",
      "source": [
        "## Setup"
      ],
      "metadata": {
        "id": "8brtu4HfKQQk"
      }
    },
    {
      "cell_type": "code",
      "source": [
        "!pip install emukit\n",
        "!pip install GPy\n",
        "!pip install GPyOpt\n",
        "!pip install SALib\n",
        "import GPy\n",
        "from GPyOpt.methods import BayesianOptimization\n",
        "from emukit.model_wrappers import GPyModelWrapper\n",
        "from emukit.sensitivity.monte_carlo import MonteCarloSensitivity\n",
        "from emukit.core import ContinuousParameter, ParameterSpace\n",
        "from SALib.sample import saltelli\n",
        "from SALib.analyze import sobol\n",
        "\n",
        "from google.colab import drive\n",
        "import os\n",
        "import pickle\n",
        "import itertools\n",
        "from IPython.display import clear_output\n",
        "\n",
        "import numpy as np\n",
        "import pandas as pd\n",
        "from sklearn.cluster import DBSCAN\n",
        "import scipy\n",
        "\n",
        "import seaborn as sns\n",
        "import plotly.graph_objects as go\n",
        "from plotly.subplots import make_subplots\n",
        "import matplotlib.pyplot as plt\n",
        "from mpl_toolkits.mplot3d import Axes3D\n",
        "\n",
        "clear_output()\n",
        "print(\"Loaded dependencies.\")"
      ],
      "metadata": {
        "id": "2DYFOvSSn8C3",
        "colab": {
          "base_uri": "https://localhost:8080/",
          "height": 1000
        },
        "outputId": "6e7b6f2f-f031-4dfe-fd72-71c4accc1e70"
      },
      "execution_count": null,
      "outputs": [
        {
          "output_type": "stream",
          "name": "stdout",
          "text": [
            "Collecting emukit\n",
            "  Downloading emukit-0.4.10.tar.gz (170 kB)\n",
            "\u001b[2K     \u001b[90m━━━━━━━━━━━━━━━━━━━━━━━━━━━━━━━━━━━━━━━━\u001b[0m \u001b[32m170.5/170.5 kB\u001b[0m \u001b[31m2.1 MB/s\u001b[0m eta \u001b[36m0:00:00\u001b[0m\n",
            "\u001b[?25h  Installing build dependencies ... \u001b[?25l\u001b[?25hdone\n",
            "  Getting requirements to build wheel ... \u001b[?25l\u001b[?25hdone\n",
            "  Preparing metadata (pyproject.toml) ... \u001b[?25l\u001b[?25hdone\n",
            "Requirement already satisfied: setuptools>=40.8.0 in /usr/local/lib/python3.10/dist-packages (from emukit) (67.7.2)\n",
            "Requirement already satisfied: numpy>=1.14.5 in /usr/local/lib/python3.10/dist-packages (from emukit) (1.23.5)\n",
            "Collecting GPy[plotting]>=1.10.0 (from emukit)\n",
            "  Downloading GPy-1.13.1-cp310-cp310-manylinux_2_17_x86_64.manylinux2014_x86_64.whl (3.6 MB)\n",
            "\u001b[2K     \u001b[90m━━━━━━━━━━━━━━━━━━━━━━━━━━━━━━━━━━━━━━━━\u001b[0m \u001b[32m3.6/3.6 MB\u001b[0m \u001b[31m14.8 MB/s\u001b[0m eta \u001b[36m0:00:00\u001b[0m\n",
            "\u001b[?25hCollecting emcee>=2.2.1 (from emukit)\n",
            "  Downloading emcee-3.1.4-py2.py3-none-any.whl (46 kB)\n",
            "\u001b[2K     \u001b[90m━━━━━━━━━━━━━━━━━━━━━━━━━━━━━━━━━━━━━━━━\u001b[0m \u001b[32m46.2/46.2 kB\u001b[0m \u001b[31m4.1 MB/s\u001b[0m eta \u001b[36m0:00:00\u001b[0m\n",
            "\u001b[?25hRequirement already satisfied: scipy>=1.1.0 in /usr/local/lib/python3.10/dist-packages (from emukit) (1.11.4)\n",
            "Requirement already satisfied: six in /usr/local/lib/python3.10/dist-packages (from GPy[plotting]>=1.10.0->emukit) (1.16.0)\n",
            "Collecting paramz>=0.9.6 (from GPy[plotting]>=1.10.0->emukit)\n",
            "  Downloading paramz-0.9.6-py3-none-any.whl (103 kB)\n",
            "\u001b[2K     \u001b[90m━━━━━━━━━━━━━━━━━━━━━━━━━━━━━━━━━━━━━━━━\u001b[0m \u001b[32m103.2/103.2 kB\u001b[0m \u001b[31m11.3 MB/s\u001b[0m eta \u001b[36m0:00:00\u001b[0m\n",
            "\u001b[?25hRequirement already satisfied: cython>=0.29 in /usr/local/lib/python3.10/dist-packages (from GPy[plotting]>=1.10.0->emukit) (3.0.8)\n",
            "Collecting matplotlib==3.3.4 (from GPy[plotting]>=1.10.0->emukit)\n",
            "  Downloading matplotlib-3.3.4.tar.gz (37.9 MB)\n",
            "\u001b[2K     \u001b[90m━━━━━━━━━━━━━━━━━━━━━━━━━━━━━━━━━━━━━━━━\u001b[0m \u001b[32m37.9/37.9 MB\u001b[0m \u001b[31m10.9 MB/s\u001b[0m eta \u001b[36m0:00:00\u001b[0m\n",
            "\u001b[?25h  Preparing metadata (setup.py) ... \u001b[?25l\u001b[?25hdone\n",
            "Requirement already satisfied: plotly>=1.8.6 in /usr/local/lib/python3.10/dist-packages (from GPy[plotting]>=1.10.0->emukit) (5.15.0)\n",
            "Requirement already satisfied: cycler>=0.10 in /usr/local/lib/python3.10/dist-packages (from matplotlib==3.3.4->GPy[plotting]>=1.10.0->emukit) (0.12.1)\n",
            "Requirement already satisfied: kiwisolver>=1.0.1 in /usr/local/lib/python3.10/dist-packages (from matplotlib==3.3.4->GPy[plotting]>=1.10.0->emukit) (1.4.5)\n",
            "Requirement already satisfied: pillow>=6.2.0 in /usr/local/lib/python3.10/dist-packages (from matplotlib==3.3.4->GPy[plotting]>=1.10.0->emukit) (9.4.0)\n",
            "Requirement already satisfied: pyparsing!=2.0.4,!=2.1.2,!=2.1.6,>=2.0.3 in /usr/local/lib/python3.10/dist-packages (from matplotlib==3.3.4->GPy[plotting]>=1.10.0->emukit) (3.1.1)\n",
            "Requirement already satisfied: python-dateutil>=2.1 in /usr/local/lib/python3.10/dist-packages (from matplotlib==3.3.4->GPy[plotting]>=1.10.0->emukit) (2.8.2)\n",
            "Requirement already satisfied: decorator>=4.0.10 in /usr/local/lib/python3.10/dist-packages (from paramz>=0.9.6->GPy[plotting]>=1.10.0->emukit) (4.4.2)\n",
            "Requirement already satisfied: tenacity>=6.2.0 in /usr/local/lib/python3.10/dist-packages (from plotly>=1.8.6->GPy[plotting]>=1.10.0->emukit) (8.2.3)\n",
            "Requirement already satisfied: packaging in /usr/local/lib/python3.10/dist-packages (from plotly>=1.8.6->GPy[plotting]>=1.10.0->emukit) (23.2)\n",
            "Building wheels for collected packages: emukit, matplotlib\n",
            "  Building wheel for emukit (pyproject.toml) ... \u001b[?25l\u001b[?25hdone\n",
            "  Created wheel for emukit: filename=emukit-0.4.10-py3-none-any.whl size=257050 sha256=d99314dc686b5fcdf22c088d3d8b4caf75f28129e6629ee6ab63a47a8bfe3a39\n",
            "  Stored in directory: /root/.cache/pip/wheels/30/d1/af/64ddede19b5eb77bd70362edebf9d393bf77dc34d354c11292\n",
            "  Building wheel for matplotlib (setup.py) ... \u001b[?25l\u001b[?25hdone\n",
            "  Created wheel for matplotlib: filename=matplotlib-3.3.4-cp310-cp310-linux_x86_64.whl size=11684740 sha256=d501556c5845d07cb37fc859798b1be87d35351b78f13385c5a9d49d9216a5fa\n",
            "  Stored in directory: /root/.cache/pip/wheels/38/c6/49/eaba6d234887d98d9c85185e2a90bd7bb77934e85eefaf317e\n",
            "Successfully built emukit matplotlib\n",
            "Installing collected packages: emcee, paramz, matplotlib, GPy, emukit\n",
            "  Attempting uninstall: matplotlib\n",
            "    Found existing installation: matplotlib 3.7.1\n",
            "    Uninstalling matplotlib-3.7.1:\n",
            "      Successfully uninstalled matplotlib-3.7.1\n",
            "\u001b[31mERROR: pip's dependency resolver does not currently take into account all the packages that are installed. This behaviour is the source of the following dependency conflicts.\n",
            "lida 0.0.10 requires fastapi, which is not installed.\n",
            "lida 0.0.10 requires kaleido, which is not installed.\n",
            "lida 0.0.10 requires python-multipart, which is not installed.\n",
            "lida 0.0.10 requires uvicorn, which is not installed.\n",
            "mizani 0.9.3 requires matplotlib>=3.5.0, but you have matplotlib 3.3.4 which is incompatible.\n",
            "plotnine 0.12.4 requires matplotlib>=3.6.0, but you have matplotlib 3.3.4 which is incompatible.\n",
            "seaborn 0.13.1 requires matplotlib!=3.6.1,>=3.4, but you have matplotlib 3.3.4 which is incompatible.\u001b[0m\u001b[31m\n",
            "\u001b[0mSuccessfully installed GPy-1.13.1 emcee-3.1.4 emukit-0.4.10 matplotlib-3.3.4 paramz-0.9.6\n"
          ]
        },
        {
          "output_type": "display_data",
          "data": {
            "application/vnd.colab-display-data+json": {
              "pip_warning": {
                "packages": [
                  "matplotlib",
                  "mpl_toolkits"
                ]
              }
            }
          },
          "metadata": {}
        },
        {
          "output_type": "stream",
          "name": "stdout",
          "text": [
            "Requirement already satisfied: GPy in /usr/local/lib/python3.10/dist-packages (1.13.1)\n",
            "Requirement already satisfied: numpy>=1.7 in /usr/local/lib/python3.10/dist-packages (from GPy) (1.23.5)\n",
            "Requirement already satisfied: six in /usr/local/lib/python3.10/dist-packages (from GPy) (1.16.0)\n",
            "Requirement already satisfied: paramz>=0.9.6 in /usr/local/lib/python3.10/dist-packages (from GPy) (0.9.6)\n",
            "Requirement already satisfied: cython>=0.29 in /usr/local/lib/python3.10/dist-packages (from GPy) (3.0.8)\n",
            "Requirement already satisfied: scipy<1.12.0,>=1.3.0 in /usr/local/lib/python3.10/dist-packages (from GPy) (1.11.4)\n",
            "Requirement already satisfied: decorator>=4.0.10 in /usr/local/lib/python3.10/dist-packages (from paramz>=0.9.6->GPy) (4.4.2)\n",
            "Collecting GPyOpt\n",
            "  Downloading GPyOpt-1.2.6.tar.gz (56 kB)\n",
            "\u001b[2K     \u001b[90m━━━━━━━━━━━━━━━━━━━━━━━━━━━━━━━━━━━━━━━━\u001b[0m \u001b[32m56.8/56.8 kB\u001b[0m \u001b[31m1.3 MB/s\u001b[0m eta \u001b[36m0:00:00\u001b[0m\n",
            "\u001b[?25h  Preparing metadata (setup.py) ... \u001b[?25l\u001b[?25hdone\n",
            "Requirement already satisfied: numpy>=1.7 in /usr/local/lib/python3.10/dist-packages (from GPyOpt) (1.23.5)\n",
            "Requirement already satisfied: scipy>=0.16 in /usr/local/lib/python3.10/dist-packages (from GPyOpt) (1.11.4)\n",
            "Requirement already satisfied: GPy>=1.8 in /usr/local/lib/python3.10/dist-packages (from GPyOpt) (1.13.1)\n",
            "Requirement already satisfied: six in /usr/local/lib/python3.10/dist-packages (from GPy>=1.8->GPyOpt) (1.16.0)\n",
            "Requirement already satisfied: paramz>=0.9.6 in /usr/local/lib/python3.10/dist-packages (from GPy>=1.8->GPyOpt) (0.9.6)\n",
            "Requirement already satisfied: cython>=0.29 in /usr/local/lib/python3.10/dist-packages (from GPy>=1.8->GPyOpt) (3.0.8)\n",
            "Requirement already satisfied: decorator>=4.0.10 in /usr/local/lib/python3.10/dist-packages (from paramz>=0.9.6->GPy>=1.8->GPyOpt) (4.4.2)\n",
            "Building wheels for collected packages: GPyOpt\n",
            "  Building wheel for GPyOpt (setup.py) ... \u001b[?25l\u001b[?25hdone\n",
            "  Created wheel for GPyOpt: filename=GPyOpt-1.2.6-py3-none-any.whl size=83588 sha256=813b3251364904939f15d67a77487b2670aff0d587e51c63e4a8a182ecd1e47b\n",
            "  Stored in directory: /root/.cache/pip/wheels/72/17/52/9d818b4c60f733bf49d5cf82bc2758ebbdc57a0471137c37be\n",
            "Successfully built GPyOpt\n"
          ]
        }
      ]
    },
    {
      "cell_type": "code",
      "source": [
        "\"\"\"\n",
        "!pip install GPy\n",
        "import GPy\n",
        "from IPython.display import clear_output\n",
        "\n",
        "!pip install GPyOpt\n",
        "import GPyOpt\n",
        "from GPyOpt.methods import BayesianOptimization\n",
        "\n",
        "\n",
        "!pip install emukit\n",
        "import GPy\n",
        "from emukit.model_wrappers import GPyModelWrapper\n",
        "from emukit.sensitivity.monte_carlo import MonteCarloSensitivity\n",
        "from emukit.core import ContinuousParameter, ParameterSpace\n",
        "\n",
        "\n",
        "!pip install SALib\n",
        "from SALib.sample import saltelli\n",
        "from SALib.analyze import sobol\n",
        "\n",
        "\n",
        "clear_output()\n",
        "\n",
        "\n",
        "\"\"\""
      ],
      "metadata": {
        "id": "g9Mky3mu9c4E",
        "colab": {
          "base_uri": "https://localhost:8080/"
        },
        "outputId": "89d62b4a-1b1c-4a6c-f99c-ba89a8e20b23"
      },
      "execution_count": null,
      "outputs": [
        {
          "output_type": "execute_result",
          "data": {
            "text/plain": [
              "'\\n!pip install GPy\\nimport GPy\\nfrom IPython.display import clear_output\\n\\n!pip install GPyOpt\\nimport GPyOpt\\nfrom GPyOpt.methods import BayesianOptimization\\n\\n\\n!pip install emukit\\nimport GPy\\nfrom emukit.model_wrappers import GPyModelWrapper\\nfrom emukit.sensitivity.monte_carlo import MonteCarloSensitivity\\nfrom emukit.core import ContinuousParameter, ParameterSpace\\n\\n\\n!pip install SALib\\nfrom SALib.sample import saltelli\\nfrom SALib.analyze import sobol\\n\\n\\nclear_output()\\n\\n\\n'"
            ],
            "application/vnd.google.colaboratory.intrinsic+json": {
              "type": "string"
            }
          },
          "metadata": {},
          "execution_count": 2
        }
      ]
    },
    {
      "cell_type": "code",
      "source": [
        "\n",
        "# Mount Google Drive\n",
        "drive.mount('/content/drive')\n"
      ],
      "metadata": {
        "id": "k_LLz_hXLuQ3",
        "colab": {
          "base_uri": "https://localhost:8080/"
        },
        "outputId": "1965b573-941d-44fa-b794-d8cd1a6b62c7"
      },
      "execution_count": null,
      "outputs": [
        {
          "output_type": "stream",
          "name": "stdout",
          "text": [
            "Mounted at /content/drive\n"
          ]
        }
      ]
    },
    {
      "cell_type": "markdown",
      "source": [
        "## Input crutch variables HERE"
      ],
      "metadata": {
        "id": "-AVJQKK7xGok"
      }
    },
    {
      "cell_type": "code",
      "source": [
        "\n",
        "EXPERIMENT = 'BO_loop'\n",
        "\n",
        "crutch_type = '80_120_25'\n",
        "\n",
        "\n",
        "crutch_parameters = [80,   #ALPHA: angle of handle from vertical  - Degrees\n",
        "                     120,    #BETA: Angle between forearm placement and hand grip - Degrees\n",
        "                     25]   #GAMMA: Distance between forearm placement and vertical strut -- in CM\n",
        "\n",
        "subjective_crutch_results = [4,            #subjective PAIN / 6\n",
        "                             2,     #subjective INSTABILITY /6\n",
        "                             3]         #subjective EFFORT /6\n",
        "## where 1 is awesome, 6 is terrible\n",
        "\n",
        "\n",
        "HR_change_raw = 35\n",
        "\n",
        "\n",
        "# Calculated by taking the final HR after crutching - initial HR when starting cruthing\n",
        "#this is currently measured just after experiment,\n",
        "#but can be calculataed from heart monitor data automatically (not done here)\n",
        "\n",
        "\n",
        "#~~~~~~~~~~~ EXPERIMENTAL DECISIONS\n",
        "\n",
        "Num_bouts_predefined = 6\n",
        "## edit the accelerometer data to only use this number of bouts\n",
        "\n",
        "\n",
        "Initial_crutches_BO_loop = ['NHS_2', 'smart', 'opmo']\n",
        "\n",
        "\n",
        "Metric_weighting_values_dict ={\n",
        "    'standard_deviation_scale_factor': 20,\n",
        "    'bouts_num_diff':2,\n",
        "    'Y_change': 100,\n",
        "    'X_Z_change': 100,\n",
        "    'Y_total': 3000,\n",
        "    'HR_change': 5,\n",
        "    'step_freq': 5,\n",
        "    'Impact_Subj_metrics':1,\n",
        "    'Impact_Obj_metrics': 1, # this value is multiplied to the total objective loss\n",
        "    'Impact_Sim_metrics':1,  #this value is multiplied to the simulated loss,\n",
        "    'Dim_beta_kern_noise': 1.05  # value of the noise prior on the beta dimension of the BO kernel\n",
        "    }\n",
        "\n",
        "\n",
        "acc_file = crutch_type + '_acc.csv'\n",
        "step_file = crutch_type + '_step.step'"
      ],
      "metadata": {
        "id": "GGkkhLfgjsxQ"
      },
      "execution_count": null,
      "outputs": []
    },
    {
      "cell_type": "markdown",
      "source": [
        "## Download all previous runs"
      ],
      "metadata": {
        "id": "6uAfMfhU8dtx"
      }
    },
    {
      "cell_type": "code",
      "source": [
        "\n",
        "\n",
        "# List files in your Google Drive root directory\n",
        "ML_phys_experiments = '/content/drive/My Drive/MLPhys Crutches/Experiments'\n",
        "\n",
        "files = os.listdir(ML_phys_experiments)\n",
        "print(files)"
      ],
      "metadata": {
        "colab": {
          "base_uri": "https://localhost:8080/"
        },
        "id": "GsVrWhcC8dDQ",
        "outputId": "82f9b025-20a5-4139-ec50-42527f887a29"
      },
      "execution_count": null,
      "outputs": [
        {
          "output_type": "stream",
          "name": "stdout",
          "text": [
            "['NHS_acc.csv', 'NHS_experiment_1.csv', 'NHS_Step.step', 'Crutches experiments .gsheet', '110_140_20_acc (1).csv', '70_130_21_acc.csv', '70_130_21_step.step', '110_140_20_acc.csv', '110_140_20_step.step', 'angled_acc.csv', 'angled_step.step', 'opmo_acc.csv', 'opmo_step.step', 'smart_acc.csv', 'smart_step.step', 'Plots', '90_140_90_acc.csv', '90_140_90_step.step', 'NHS_step.step', '85_135_85_acc.csv', '85_135_85_step.step', 'NHS_2_acc.csv', 'NHS_2_step.step', 'Experiment_metrics.pkl']\n"
          ]
        }
      ]
    },
    {
      "cell_type": "code",
      "source": [
        "def find_unique_crutch_titles(file_list, ):\n",
        "    \"\"\"\n",
        "    This function takes a list of file names and returns the unique titles\n",
        "    of the files that end with '_acc.csv'.\n",
        "    \"\"\"\n",
        "    acc_files = set()  # Using a set to store unique titles\n",
        "    step_files = set()\n",
        "    for file in file_list:\n",
        "        if file.endswith('_acc.csv'):\n",
        "            title = file[:-8]  # Remove '_acc.csv' from the file name to get the title\n",
        "            acc_files.add(title)\n",
        "        elif file.endswith('_step.step'):\n",
        "          title = file[:-10]\n",
        "          step_files.add(title)\n",
        "\n",
        "    complete_crutch_data = acc_files.intersection(step_files)\n",
        "\n",
        "\n",
        "    return(list(complete_crutch_data))"
      ],
      "metadata": {
        "id": "dvz4b4iB9sv9"
      },
      "execution_count": null,
      "outputs": []
    },
    {
      "cell_type": "code",
      "source": [
        "\"\"\"\n",
        "unique_crutches  = find_unique_crutch_titles(files)\n",
        "\n",
        "\n",
        "\n",
        "file_path_unique_crutches = f'/content/drive/My Drive/MLPhys Crutches/Experiments/Experiment_metrics/unique_crutches.pkl'\n",
        "try:\n",
        "    with open(file_path_unique_crutches, 'wb') as file:\n",
        "        pickle.dump(unique_crutches, file)\n",
        "except Exception as e:\n",
        "    print(f\"Error saving to pickle file: {e}\")\n",
        "\n",
        "\n",
        "\n",
        "unique_crutches\n",
        "\"\"\""
      ],
      "metadata": {
        "colab": {
          "base_uri": "https://localhost:8080/",
          "height": 70
        },
        "id": "jcFApe-S9tna",
        "outputId": "3257ad1b-30f9-4e41-f136-ecd01bd75c25"
      },
      "execution_count": null,
      "outputs": [
        {
          "output_type": "execute_result",
          "data": {
            "text/plain": [
              "'\\nunique_crutches  = find_unique_crutch_titles(files)\\n\\n\\n\\nfile_path_unique_crutches = f\\'/content/drive/My Drive/MLPhys Crutches/Experiments/Experiment_metrics/unique_crutches.pkl\\'\\ntry:\\n    with open(file_path_unique_crutches, \\'wb\\') as file:\\n        pickle.dump(unique_crutches, file)\\nexcept Exception as e:\\n    print(f\"Error saving to pickle file: {e}\")\\n\\n\\n\\nunique_crutches\\n'"
            ],
            "application/vnd.google.colaboratory.intrinsic+json": {
              "type": "string"
            }
          },
          "metadata": {},
          "execution_count": 7
        }
      ]
    },
    {
      "cell_type": "code",
      "source": [
        "file_path_unique_crutches = f'/content/drive/My Drive/MLPhys Crutches/Experiments/Experiment_metrics/unique_crutches.pkl'\n",
        "\n",
        "if os.path.exists(file_path_unique_crutches):  # Check if the file exists\n",
        "    try:\n",
        "        with open(file_path_unique_crutches, 'rb') as file:\n",
        "            unique_crutches = pickle.load(file)\n",
        "    except Exception as e:\n",
        "        print(f\"Error loading pickle file: {e}\")\n"
      ],
      "metadata": {
        "id": "kVJaNfhKUIda"
      },
      "execution_count": null,
      "outputs": []
    },
    {
      "cell_type": "code",
      "source": [
        "crutch_geometries = {\n",
        "    'angled_angledup': [135, 95, 15],\n",
        "    '75_125_3': [75, 125, 3],\n",
        "    'angled': [90, 140, 12],\n",
        "    '85_135_85': [85, 135, 8.5],\n",
        "    'NHS_2': [100, 95, 3],\n",
        "    '110_100_12': [110, 100, 12],\n",
        "    '110_140_20': [110, 140, 20],\n",
        "    'smart': [140, 140, 0],\n",
        "    '70_130_21': [70, 130, 21],\n",
        "    '90_140_90': [90,140, 9],\n",
        "    'NHS': [100, 95, 3],\n",
        "    'opmo': [90, 140, 30]\n",
        "\n",
        "}\n",
        "\n",
        "subjective_metrics_all_crutches = {\n",
        "    'angled_angledup': [2, 2, 3, 20],\n",
        "    '75_125_3': [ 1, 1, 1, 20],\n",
        "    'angled': [ 3,3,3, 40 ],\n",
        "    '85_135_85': [2, 3, 1, 35],\n",
        "    'NHS_2': [ 5, 3, 2, 35],\n",
        "    '110_100_12': [5, 2, 4, 35],\n",
        "    '110_140_20': [4, 3, 2, 45],\n",
        "    'smart': [ 1, 4, 5, 45],\n",
        "    '70_130_21': [3, 4, 3 ,40],\n",
        "    '90_140_90': [3,4, 2, 35],\n",
        "    'NHS': [ 6, 2, 3, 40],\n",
        "    'opmo': [1, 2, 2, 40]\n",
        "\n",
        "\n",
        "}"
      ],
      "metadata": {
        "id": "RHhx2Ghp97RC"
      },
      "execution_count": null,
      "outputs": []
    },
    {
      "cell_type": "code",
      "source": [
        "unique_crutches"
      ],
      "metadata": {
        "colab": {
          "base_uri": "https://localhost:8080/",
          "height": 175
        },
        "id": "MbOMLEbpIszs",
        "outputId": "574e7357-f4c5-418f-b664-570d97d592e3"
      },
      "execution_count": null,
      "outputs": [
        {
          "output_type": "error",
          "ename": "NameError",
          "evalue": "name 'unique_crutches' is not defined",
          "traceback": [
            "\u001b[0;31m---------------------------------------------------------------------------\u001b[0m",
            "\u001b[0;31mNameError\u001b[0m                                 Traceback (most recent call last)",
            "\u001b[0;32m<ipython-input-10-adffd339f2a3>\u001b[0m in \u001b[0;36m<cell line: 1>\u001b[0;34m()\u001b[0m\n\u001b[0;32m----> 1\u001b[0;31m \u001b[0munique_crutches\u001b[0m\u001b[0;34m\u001b[0m\u001b[0;34m\u001b[0m\u001b[0m\n\u001b[0m",
            "\u001b[0;31mNameError\u001b[0m: name 'unique_crutches' is not defined"
          ]
        }
      ]
    },
    {
      "cell_type": "code",
      "source": [
        "crutch = unique_crutches[2]\n",
        "\n",
        "\n",
        "crutch_type = crutch\n",
        "crutch_parameters = crutch_geometries[crutch]\n",
        "subjective_crutch_results = subjective_metrics_all_crutches[crutch][0:3]\n",
        "HR_change_raw = subjective_metrics_all_crutches[crutch][3]\n",
        "\n",
        "\n",
        "\n",
        "acc_file = crutch_type + '_acc.csv'\n",
        "step_file = crutch_type + '_step.step'\n",
        "\n",
        "\n",
        "EXPERIMENT = 'Sensitivity_analysis'"
      ],
      "metadata": {
        "id": "UiqXvlbJCAPt"
      },
      "execution_count": null,
      "outputs": []
    },
    {
      "cell_type": "markdown",
      "source": [
        "## Accelerometer data extraction"
      ],
      "metadata": {
        "id": "bI6ThBmbkGIb"
      }
    },
    {
      "cell_type": "code",
      "source": [
        "\n",
        "\n",
        "# List files in your Google Drive root directory\n",
        "ML_phys_root = '/content/drive/My Drive/MLPhys Crutches'\n",
        "\n",
        "files = os.listdir(ML_phys_root)\n",
        "print(files)"
      ],
      "metadata": {
        "id": "tU4xhlcnL1Nk",
        "colab": {
          "base_uri": "https://localhost:8080/"
        },
        "outputId": "9fba556e-d66f-4945-acb9-47944f08011b"
      },
      "execution_count": null,
      "outputs": [
        {
          "output_type": "stream",
          "name": "stdout",
          "text": [
            "['crutch analysis v0.09.html', 'example_accelerometer (1).gsheet', 'example_accelerometer.csv', 'HQ MLP_crutches.gdoc', 'example_accelerometer.gsheet', 'example.step', 'Instructions_on_html_crutches.txt', 'PDN_2206jb.pdf', 'Simulator.gdoc', 'Experiments', '__pycache__', 'custom_ker.py']\n"
          ]
        }
      ]
    },
    {
      "cell_type": "code",
      "source": [
        "\n",
        "def load_csv_to_dataframe(file_path):\n",
        "    \"\"\"\n",
        "    Load a .csv file into a Pandas DataFrame.\n",
        "\n",
        "    Parameters:\n",
        "    file_path (str): The path to the .csv file.\n",
        "\n",
        "    Returns:\n",
        "    pandas.DataFrame: The loaded DataFrame.\n",
        "    \"\"\"\n",
        "    try:\n",
        "        df = pd.read_csv(file_path)\n",
        "        return df\n",
        "    except FileNotFoundError:\n",
        "        print(f\"Error: The file '{file_path}' was not found.\")\n",
        "        return None\n"
      ],
      "metadata": {
        "id": "puijYi-TKTEa"
      },
      "execution_count": null,
      "outputs": []
    },
    {
      "cell_type": "code",
      "source": [
        "#Load accelerometer data\n",
        "file_path_acc = '/content/drive/My Drive/MLPhys Crutches/Experiments/' + acc_file\n",
        "#data_frame = load_csv_to_dataframe(file_path_acc)\n",
        "data_frame = pd.read_csv(file_path_acc, error_bad_lines=False)\n",
        "\n",
        "Accelerometer_df = data_frame[['acc_x_time', 'acc_x_data', 'acc_y_data', 'acc_z_data']].dropna()\n",
        "Accelerometer_df.rename(columns={'acc_x_time': 'Time_ms'}, inplace = True)\n",
        "#Accelerometer_df[['Time_ms']] = Accelerometer_df[['Time_ms']]/1000"
      ],
      "metadata": {
        "id": "MZKtmFDmLJ3w",
        "colab": {
          "base_uri": "https://localhost:8080/",
          "height": 497
        },
        "outputId": "d28c842f-1240-412e-ba59-9a766c9f7c44"
      },
      "execution_count": null,
      "outputs": [
        {
          "output_type": "stream",
          "name": "stderr",
          "text": [
            "<ipython-input-13-972dd7e5ebca>:4: FutureWarning: The error_bad_lines argument has been deprecated and will be removed in a future version. Use on_bad_lines in the future.\n",
            "\n",
            "\n",
            "  data_frame = pd.read_csv(file_path_acc, error_bad_lines=False)\n"
          ]
        },
        {
          "output_type": "error",
          "ename": "FileNotFoundError",
          "evalue": "[Errno 2] No such file or directory: '/content/drive/My Drive/MLPhys Crutches/Experiments/80_120_25_acc.csv'",
          "traceback": [
            "\u001b[0;31m---------------------------------------------------------------------------\u001b[0m",
            "\u001b[0;31mFileNotFoundError\u001b[0m                         Traceback (most recent call last)",
            "\u001b[0;32m<ipython-input-13-972dd7e5ebca>\u001b[0m in \u001b[0;36m<cell line: 4>\u001b[0;34m()\u001b[0m\n\u001b[1;32m      2\u001b[0m \u001b[0mfile_path_acc\u001b[0m \u001b[0;34m=\u001b[0m \u001b[0;34m'/content/drive/My Drive/MLPhys Crutches/Experiments/'\u001b[0m \u001b[0;34m+\u001b[0m \u001b[0macc_file\u001b[0m\u001b[0;34m\u001b[0m\u001b[0;34m\u001b[0m\u001b[0m\n\u001b[1;32m      3\u001b[0m \u001b[0;31m#data_frame = load_csv_to_dataframe(file_path_acc)\u001b[0m\u001b[0;34m\u001b[0m\u001b[0;34m\u001b[0m\u001b[0m\n\u001b[0;32m----> 4\u001b[0;31m \u001b[0mdata_frame\u001b[0m \u001b[0;34m=\u001b[0m \u001b[0mpd\u001b[0m\u001b[0;34m.\u001b[0m\u001b[0mread_csv\u001b[0m\u001b[0;34m(\u001b[0m\u001b[0mfile_path_acc\u001b[0m\u001b[0;34m,\u001b[0m \u001b[0merror_bad_lines\u001b[0m\u001b[0;34m=\u001b[0m\u001b[0;32mFalse\u001b[0m\u001b[0;34m)\u001b[0m\u001b[0;34m\u001b[0m\u001b[0;34m\u001b[0m\u001b[0m\n\u001b[0m\u001b[1;32m      5\u001b[0m \u001b[0;34m\u001b[0m\u001b[0m\n\u001b[1;32m      6\u001b[0m \u001b[0mAccelerometer_df\u001b[0m \u001b[0;34m=\u001b[0m \u001b[0mdata_frame\u001b[0m\u001b[0;34m[\u001b[0m\u001b[0;34m[\u001b[0m\u001b[0;34m'acc_x_time'\u001b[0m\u001b[0;34m,\u001b[0m \u001b[0;34m'acc_x_data'\u001b[0m\u001b[0;34m,\u001b[0m \u001b[0;34m'acc_y_data'\u001b[0m\u001b[0;34m,\u001b[0m \u001b[0;34m'acc_z_data'\u001b[0m\u001b[0;34m]\u001b[0m\u001b[0;34m]\u001b[0m\u001b[0;34m.\u001b[0m\u001b[0mdropna\u001b[0m\u001b[0;34m(\u001b[0m\u001b[0;34m)\u001b[0m\u001b[0;34m\u001b[0m\u001b[0;34m\u001b[0m\u001b[0m\n",
            "\u001b[0;32m/usr/local/lib/python3.10/dist-packages/pandas/util/_decorators.py\u001b[0m in \u001b[0;36mwrapper\u001b[0;34m(*args, **kwargs)\u001b[0m\n\u001b[1;32m    209\u001b[0m                 \u001b[0;32melse\u001b[0m\u001b[0;34m:\u001b[0m\u001b[0;34m\u001b[0m\u001b[0;34m\u001b[0m\u001b[0m\n\u001b[1;32m    210\u001b[0m                     \u001b[0mkwargs\u001b[0m\u001b[0;34m[\u001b[0m\u001b[0mnew_arg_name\u001b[0m\u001b[0;34m]\u001b[0m \u001b[0;34m=\u001b[0m \u001b[0mnew_arg_value\u001b[0m\u001b[0;34m\u001b[0m\u001b[0;34m\u001b[0m\u001b[0m\n\u001b[0;32m--> 211\u001b[0;31m             \u001b[0;32mreturn\u001b[0m \u001b[0mfunc\u001b[0m\u001b[0;34m(\u001b[0m\u001b[0;34m*\u001b[0m\u001b[0margs\u001b[0m\u001b[0;34m,\u001b[0m \u001b[0;34m**\u001b[0m\u001b[0mkwargs\u001b[0m\u001b[0;34m)\u001b[0m\u001b[0;34m\u001b[0m\u001b[0;34m\u001b[0m\u001b[0m\n\u001b[0m\u001b[1;32m    212\u001b[0m \u001b[0;34m\u001b[0m\u001b[0m\n\u001b[1;32m    213\u001b[0m         \u001b[0;32mreturn\u001b[0m \u001b[0mcast\u001b[0m\u001b[0;34m(\u001b[0m\u001b[0mF\u001b[0m\u001b[0;34m,\u001b[0m \u001b[0mwrapper\u001b[0m\u001b[0;34m)\u001b[0m\u001b[0;34m\u001b[0m\u001b[0;34m\u001b[0m\u001b[0m\n",
            "\u001b[0;32m/usr/local/lib/python3.10/dist-packages/pandas/util/_decorators.py\u001b[0m in \u001b[0;36mwrapper\u001b[0;34m(*args, **kwargs)\u001b[0m\n\u001b[1;32m    329\u001b[0m                     \u001b[0mstacklevel\u001b[0m\u001b[0;34m=\u001b[0m\u001b[0mfind_stack_level\u001b[0m\u001b[0;34m(\u001b[0m\u001b[0;34m)\u001b[0m\u001b[0;34m,\u001b[0m\u001b[0;34m\u001b[0m\u001b[0;34m\u001b[0m\u001b[0m\n\u001b[1;32m    330\u001b[0m                 )\n\u001b[0;32m--> 331\u001b[0;31m             \u001b[0;32mreturn\u001b[0m \u001b[0mfunc\u001b[0m\u001b[0;34m(\u001b[0m\u001b[0;34m*\u001b[0m\u001b[0margs\u001b[0m\u001b[0;34m,\u001b[0m \u001b[0;34m**\u001b[0m\u001b[0mkwargs\u001b[0m\u001b[0;34m)\u001b[0m\u001b[0;34m\u001b[0m\u001b[0;34m\u001b[0m\u001b[0m\n\u001b[0m\u001b[1;32m    332\u001b[0m \u001b[0;34m\u001b[0m\u001b[0m\n\u001b[1;32m    333\u001b[0m         \u001b[0;31m# error: \"Callable[[VarArg(Any), KwArg(Any)], Any]\" has no\u001b[0m\u001b[0;34m\u001b[0m\u001b[0;34m\u001b[0m\u001b[0m\n",
            "\u001b[0;32m/usr/local/lib/python3.10/dist-packages/pandas/io/parsers/readers.py\u001b[0m in \u001b[0;36mread_csv\u001b[0;34m(filepath_or_buffer, sep, delimiter, header, names, index_col, usecols, squeeze, prefix, mangle_dupe_cols, dtype, engine, converters, true_values, false_values, skipinitialspace, skiprows, skipfooter, nrows, na_values, keep_default_na, na_filter, verbose, skip_blank_lines, parse_dates, infer_datetime_format, keep_date_col, date_parser, dayfirst, cache_dates, iterator, chunksize, compression, thousands, decimal, lineterminator, quotechar, quoting, doublequote, escapechar, comment, encoding, encoding_errors, dialect, error_bad_lines, warn_bad_lines, on_bad_lines, delim_whitespace, low_memory, memory_map, float_precision, storage_options)\u001b[0m\n\u001b[1;32m    948\u001b[0m     \u001b[0mkwds\u001b[0m\u001b[0;34m.\u001b[0m\u001b[0mupdate\u001b[0m\u001b[0;34m(\u001b[0m\u001b[0mkwds_defaults\u001b[0m\u001b[0;34m)\u001b[0m\u001b[0;34m\u001b[0m\u001b[0;34m\u001b[0m\u001b[0m\n\u001b[1;32m    949\u001b[0m \u001b[0;34m\u001b[0m\u001b[0m\n\u001b[0;32m--> 950\u001b[0;31m     \u001b[0;32mreturn\u001b[0m \u001b[0m_read\u001b[0m\u001b[0;34m(\u001b[0m\u001b[0mfilepath_or_buffer\u001b[0m\u001b[0;34m,\u001b[0m \u001b[0mkwds\u001b[0m\u001b[0;34m)\u001b[0m\u001b[0;34m\u001b[0m\u001b[0;34m\u001b[0m\u001b[0m\n\u001b[0m\u001b[1;32m    951\u001b[0m \u001b[0;34m\u001b[0m\u001b[0m\n\u001b[1;32m    952\u001b[0m \u001b[0;34m\u001b[0m\u001b[0m\n",
            "\u001b[0;32m/usr/local/lib/python3.10/dist-packages/pandas/io/parsers/readers.py\u001b[0m in \u001b[0;36m_read\u001b[0;34m(filepath_or_buffer, kwds)\u001b[0m\n\u001b[1;32m    603\u001b[0m \u001b[0;34m\u001b[0m\u001b[0m\n\u001b[1;32m    604\u001b[0m     \u001b[0;31m# Create the parser.\u001b[0m\u001b[0;34m\u001b[0m\u001b[0;34m\u001b[0m\u001b[0m\n\u001b[0;32m--> 605\u001b[0;31m     \u001b[0mparser\u001b[0m \u001b[0;34m=\u001b[0m \u001b[0mTextFileReader\u001b[0m\u001b[0;34m(\u001b[0m\u001b[0mfilepath_or_buffer\u001b[0m\u001b[0;34m,\u001b[0m \u001b[0;34m**\u001b[0m\u001b[0mkwds\u001b[0m\u001b[0;34m)\u001b[0m\u001b[0;34m\u001b[0m\u001b[0;34m\u001b[0m\u001b[0m\n\u001b[0m\u001b[1;32m    606\u001b[0m \u001b[0;34m\u001b[0m\u001b[0m\n\u001b[1;32m    607\u001b[0m     \u001b[0;32mif\u001b[0m \u001b[0mchunksize\u001b[0m \u001b[0;32mor\u001b[0m \u001b[0miterator\u001b[0m\u001b[0;34m:\u001b[0m\u001b[0;34m\u001b[0m\u001b[0;34m\u001b[0m\u001b[0m\n",
            "\u001b[0;32m/usr/local/lib/python3.10/dist-packages/pandas/io/parsers/readers.py\u001b[0m in \u001b[0;36m__init__\u001b[0;34m(self, f, engine, **kwds)\u001b[0m\n\u001b[1;32m   1440\u001b[0m \u001b[0;34m\u001b[0m\u001b[0m\n\u001b[1;32m   1441\u001b[0m         \u001b[0mself\u001b[0m\u001b[0;34m.\u001b[0m\u001b[0mhandles\u001b[0m\u001b[0;34m:\u001b[0m \u001b[0mIOHandles\u001b[0m \u001b[0;34m|\u001b[0m \u001b[0;32mNone\u001b[0m \u001b[0;34m=\u001b[0m \u001b[0;32mNone\u001b[0m\u001b[0;34m\u001b[0m\u001b[0;34m\u001b[0m\u001b[0m\n\u001b[0;32m-> 1442\u001b[0;31m         \u001b[0mself\u001b[0m\u001b[0;34m.\u001b[0m\u001b[0m_engine\u001b[0m \u001b[0;34m=\u001b[0m \u001b[0mself\u001b[0m\u001b[0;34m.\u001b[0m\u001b[0m_make_engine\u001b[0m\u001b[0;34m(\u001b[0m\u001b[0mf\u001b[0m\u001b[0;34m,\u001b[0m \u001b[0mself\u001b[0m\u001b[0;34m.\u001b[0m\u001b[0mengine\u001b[0m\u001b[0;34m)\u001b[0m\u001b[0;34m\u001b[0m\u001b[0;34m\u001b[0m\u001b[0m\n\u001b[0m\u001b[1;32m   1443\u001b[0m \u001b[0;34m\u001b[0m\u001b[0m\n\u001b[1;32m   1444\u001b[0m     \u001b[0;32mdef\u001b[0m \u001b[0mclose\u001b[0m\u001b[0;34m(\u001b[0m\u001b[0mself\u001b[0m\u001b[0;34m)\u001b[0m \u001b[0;34m->\u001b[0m \u001b[0;32mNone\u001b[0m\u001b[0;34m:\u001b[0m\u001b[0;34m\u001b[0m\u001b[0;34m\u001b[0m\u001b[0m\n",
            "\u001b[0;32m/usr/local/lib/python3.10/dist-packages/pandas/io/parsers/readers.py\u001b[0m in \u001b[0;36m_make_engine\u001b[0;34m(self, f, engine)\u001b[0m\n\u001b[1;32m   1733\u001b[0m                 \u001b[0;32mif\u001b[0m \u001b[0;34m\"b\"\u001b[0m \u001b[0;32mnot\u001b[0m \u001b[0;32min\u001b[0m \u001b[0mmode\u001b[0m\u001b[0;34m:\u001b[0m\u001b[0;34m\u001b[0m\u001b[0;34m\u001b[0m\u001b[0m\n\u001b[1;32m   1734\u001b[0m                     \u001b[0mmode\u001b[0m \u001b[0;34m+=\u001b[0m \u001b[0;34m\"b\"\u001b[0m\u001b[0;34m\u001b[0m\u001b[0;34m\u001b[0m\u001b[0m\n\u001b[0;32m-> 1735\u001b[0;31m             self.handles = get_handle(\n\u001b[0m\u001b[1;32m   1736\u001b[0m                 \u001b[0mf\u001b[0m\u001b[0;34m,\u001b[0m\u001b[0;34m\u001b[0m\u001b[0;34m\u001b[0m\u001b[0m\n\u001b[1;32m   1737\u001b[0m                 \u001b[0mmode\u001b[0m\u001b[0;34m,\u001b[0m\u001b[0;34m\u001b[0m\u001b[0;34m\u001b[0m\u001b[0m\n",
            "\u001b[0;32m/usr/local/lib/python3.10/dist-packages/pandas/io/common.py\u001b[0m in \u001b[0;36mget_handle\u001b[0;34m(path_or_buf, mode, encoding, compression, memory_map, is_text, errors, storage_options)\u001b[0m\n\u001b[1;32m    854\u001b[0m         \u001b[0;32mif\u001b[0m \u001b[0mioargs\u001b[0m\u001b[0;34m.\u001b[0m\u001b[0mencoding\u001b[0m \u001b[0;32mand\u001b[0m \u001b[0;34m\"b\"\u001b[0m \u001b[0;32mnot\u001b[0m \u001b[0;32min\u001b[0m \u001b[0mioargs\u001b[0m\u001b[0;34m.\u001b[0m\u001b[0mmode\u001b[0m\u001b[0;34m:\u001b[0m\u001b[0;34m\u001b[0m\u001b[0;34m\u001b[0m\u001b[0m\n\u001b[1;32m    855\u001b[0m             \u001b[0;31m# Encoding\u001b[0m\u001b[0;34m\u001b[0m\u001b[0;34m\u001b[0m\u001b[0m\n\u001b[0;32m--> 856\u001b[0;31m             handle = open(\n\u001b[0m\u001b[1;32m    857\u001b[0m                 \u001b[0mhandle\u001b[0m\u001b[0;34m,\u001b[0m\u001b[0;34m\u001b[0m\u001b[0;34m\u001b[0m\u001b[0m\n\u001b[1;32m    858\u001b[0m                 \u001b[0mioargs\u001b[0m\u001b[0;34m.\u001b[0m\u001b[0mmode\u001b[0m\u001b[0;34m,\u001b[0m\u001b[0;34m\u001b[0m\u001b[0;34m\u001b[0m\u001b[0m\n",
            "\u001b[0;31mFileNotFoundError\u001b[0m: [Errno 2] No such file or directory: '/content/drive/My Drive/MLPhys Crutches/Experiments/80_120_25_acc.csv'"
          ]
        }
      ]
    },
    {
      "cell_type": "code",
      "source": [
        "Accelerometer_df"
      ],
      "metadata": {
        "id": "fJIJ9L8_XygD"
      },
      "execution_count": null,
      "outputs": []
    },
    {
      "cell_type": "code",
      "source": [
        "#load step data\n",
        "\n",
        "file_path_step = '/content/drive/My Drive/MLPhys Crutches/Experiments/' + step_file\n",
        "Steps_df = load_csv_to_dataframe(file_path_step)\n",
        "Steps_df = Steps_df.reset_index().rename(columns={'index': 'Step times'})\n",
        "Steps_df = Steps_df.rename(columns={'Step Times': 'Step amplitude'})\n",
        "Steps_df"
      ],
      "metadata": {
        "id": "08vvt01KZQLw"
      },
      "execution_count": null,
      "outputs": []
    },
    {
      "cell_type": "code",
      "source": [
        "# automatically detect the start and end of the crutch bout times\n",
        "\n",
        "\n",
        "\n",
        "# Extract the 'Step times' column for clustering\n",
        "step_times = Steps_df['Step times'].values.reshape(-1, 1)\n",
        "\n",
        "# Apply DBSCAN clustering\n",
        "# Note: You might need to adjust 'eps' and 'min_samples' based on your data\n",
        "dbscan = DBSCAN(eps=2, min_samples=3).fit(step_times)\n",
        "\n",
        "# Assign cluster labels\n",
        "Steps_df['crutch_bout'] = dbscan.labels_ + 1\n",
        "\n",
        "# determine the start and end times of each crutch bout\n",
        "cluster_summary = Steps_df.groupby('crutch_bout')['Step times'].agg(['first', 'last'])\n",
        "\n",
        "\n",
        "print(\"Discovered \" + str(cluster_summary.shape[0]) +  \" crutching bouts\" )\n",
        "\n",
        "\n",
        "cluster_summary"
      ],
      "metadata": {
        "id": "TRRsr__HPuki"
      },
      "execution_count": null,
      "outputs": []
    },
    {
      "cell_type": "code",
      "source": [
        "Steps_df['step_label'] = Steps_df.groupby('crutch_bout').cumcount() + 1\n",
        "Steps_df"
      ],
      "metadata": {
        "id": "pyQfb7YifE_4"
      },
      "execution_count": null,
      "outputs": []
    },
    {
      "cell_type": "code",
      "source": [
        "#apply the start and end of each crutch bout to the accelerometer data\n",
        "\n",
        "Accelerometer_df['Crutch_bout'] = False\n",
        "\n",
        "# Iterate through each cluster\n",
        "for index, row in cluster_summary.iterrows():\n",
        "    # Select data points within the time range of the cluster\n",
        "    print(row['first'], row['last'])\n",
        "    mask = (Accelerometer_df['Time_ms'] >= row['first']) & (Accelerometer_df['Time_ms'] <= row['last'])\n",
        "\n",
        "    # Annotate these data points with the cluster label\n",
        "    Accelerometer_df.loc[mask, 'Crutch_bout'] = index\n",
        "\n",
        "\n",
        "Accelerometer_df"
      ],
      "metadata": {
        "id": "eklqqzzLXDc4"
      },
      "execution_count": null,
      "outputs": []
    },
    {
      "cell_type": "code",
      "source": [
        "#apply individual step count to accelerometer data (resetting at each bout)\n",
        "\n",
        "for index, row in Steps_df.iterrows():\n",
        "    step_time = row['Step times']\n",
        "    step_label = row['step_label']\n",
        "\n",
        "    # Find the closest time in accelerometer_df to the step time\n",
        "    # and label it with the step_label\n",
        "    time_tolerance = 0.5  # seconds, adjust as necessary\n",
        "    mask = abs(Accelerometer_df['Time_ms'] - step_time) <= time_tolerance\n",
        "    Accelerometer_df.loc[mask, 'step_label'] = step_label"
      ],
      "metadata": {
        "id": "pvinmAK-hJq6"
      },
      "execution_count": null,
      "outputs": []
    },
    {
      "cell_type": "code",
      "source": [
        "# Remove all accelerometer data that is not related to crutching\n",
        "\n",
        "\n",
        "Accelerometer_df_only_bouts = Accelerometer_df[Accelerometer_df['Crutch_bout'] != False]\n",
        "Accelerometer_df_only_bouts"
      ],
      "metadata": {
        "id": "4Hm69Djmfkfx"
      },
      "execution_count": null,
      "outputs": []
    },
    {
      "cell_type": "code",
      "source": [
        "## ONLY KEEP THE FIRST Num_bouts_predefined BOUTS OF CRUTCHING\n",
        "\n",
        "#lower_bound = 2  # Define the lower bound\n",
        "#upper_bound = 8  # Define the upper bound\n",
        "\n",
        "#Accelerometer_df_only_bouts = Accelerometer_df_only_bouts[\n",
        "#    (Accelerometer_df_only_bouts['Crutch_bout'] >= lower_bound) &\n",
        "#    (Accelerometer_df_only_bouts['Crutch_bout'] <= upper_bound)\n",
        "#]\n",
        "\n",
        "Accelerometer_df_only_bouts = Accelerometer_df_only_bouts[Accelerometer_df_only_bouts['Crutch_bout'] <= Num_bouts_predefined]\n",
        "Accelerometer_df_only_bouts"
      ],
      "metadata": {
        "id": "Ozne2i2Tc6UR"
      },
      "execution_count": null,
      "outputs": []
    },
    {
      "cell_type": "code",
      "source": [],
      "metadata": {
        "id": "eQcJsI2oRqKA"
      },
      "execution_count": null,
      "outputs": []
    },
    {
      "cell_type": "code",
      "source": [
        "Steps_df = Steps_df[Steps_df['crutch_bout'] <= Num_bouts_predefined]\n",
        "Steps_df\n"
      ],
      "metadata": {
        "id": "Qv_4SlQ8LqtK"
      },
      "execution_count": null,
      "outputs": []
    },
    {
      "cell_type": "code",
      "source": [
        "\n",
        "total_steps = []\n",
        "for i in np.unique(Steps_df['crutch_bout']):\n",
        "  max_num_steps_in_bout = Steps_df[Steps_df['crutch_bout']==i]['step_label'].max()\n",
        "  total_steps.append(max_num_steps_in_bout)\n",
        "\n",
        "total_steps = np.sum(total_steps)\n",
        "total_steps"
      ],
      "metadata": {
        "id": "U4kGsebGQ9q_"
      },
      "execution_count": null,
      "outputs": []
    },
    {
      "cell_type": "markdown",
      "source": [
        "## Accelerometer Visualisations"
      ],
      "metadata": {
        "id": "El4HSEMtXSMY"
      }
    },
    {
      "cell_type": "code",
      "source": [
        "def save_image(title, crutch):\n",
        "  save_path = f'/content/drive/My Drive/MLPhys Crutches/Experiments/Plots/' + title + crutch + '.png'\n",
        "  # Save the plot\n",
        "  plt.savefig(save_path)\n",
        "  print(f\"Plot saved to {save_path}\")"
      ],
      "metadata": {
        "id": "6315b6V_lLDF"
      },
      "execution_count": null,
      "outputs": []
    },
    {
      "cell_type": "code",
      "source": [
        "\n",
        "step_frequency_std_per_bout = []\n",
        "average_step_frequency_per_bout = []\n",
        "\n",
        "standard_deviation_scale_factor = Metric_weighting_values_dict['standard_deviation_scale_factor']\n",
        "\n",
        "# Calculate standard deviations and averages\n",
        "for i, bout in enumerate(sorted(Steps_df['crutch_bout'].unique())):\n",
        "    bout_data = Steps_df[Steps_df['crutch_bout'] == bout]\n",
        "    step_frequency_std_per_bout.append(bout_data['Step times'].diff().dropna().std()*standard_deviation_scale_factor)\n",
        "    average_step_frequency_per_bout.append(bout_data['Step times'].diff().dropna().mean())\n",
        "\n",
        "# Create the plot\n",
        "plt.figure(figsize=(10, 6))  # Make it larger and more readable\n",
        "\n",
        "# Plotting\n",
        "plt.plot(step_frequency_std_per_bout, label='Standard Deviation (scaled)', color='blue', linestyle='-', marker='o')  # Std deviations\n",
        "plt.plot(average_step_frequency_per_bout, label='Average', color='red', linestyle='--', marker='x')  # Averages\n",
        "\n",
        "# Adding labels and title\n",
        "plt.title('Step Frequency Analysis')\n",
        "plt.xlabel('Bout Number')\n",
        "plt.ylabel('Frequency (seconds)')\n",
        "plt.title(crutch_type)\n",
        "\n",
        "# Add a legend\n",
        "plt.legend()\n",
        "\n",
        "# Saving the image\n",
        "save_image('Step_freq_', crutch_type )\n",
        "\n",
        "# Show the plot\n",
        "plt.show()"
      ],
      "metadata": {
        "id": "ohdTM-tRYMZZ"
      },
      "execution_count": null,
      "outputs": []
    },
    {
      "cell_type": "code",
      "source": [
        "import matplotlib.pyplot as plt\n",
        "import numpy as np\n",
        "import pandas as pd\n",
        "\n",
        "# Assuming Accelerometer_df_only_bouts is your DataFrame\n",
        "\n",
        "# Calculate global means\n",
        "global_mean_y = np.mean(np.abs(Accelerometer_df_only_bouts['acc_y_data']))\n",
        "global_mean_x = np.mean(np.abs(Accelerometer_df_only_bouts['acc_x_data']))\n",
        "global_mean_z = np.mean(np.abs(Accelerometer_df_only_bouts['acc_z_data']))\n",
        "\n",
        "# Initialize lists for storing normalized sums\n",
        "normalized_sums_y = []\n",
        "normalized_sums_x = []\n",
        "normalized_sums_z = []\n",
        "bouts = []\n",
        "\n",
        "# Iterate over each unique bout\n",
        "for bout in sorted(Accelerometer_df_only_bouts['Crutch_bout'].unique()):\n",
        "    bout_data = Accelerometer_df_only_bouts[Accelerometer_df_only_bouts['Crutch_bout'] == bout]\n",
        "\n",
        "    # Calculate normalized sums\n",
        "    norm_sum_y = np.sum(np.abs(bout_data['acc_y_data'])) / global_mean_y\n",
        "    norm_sum_x = np.sum(np.abs(bout_data['acc_x_data'])) / global_mean_x\n",
        "    norm_sum_z = np.sum(np.abs(bout_data['acc_z_data'])) / global_mean_z\n",
        "\n",
        "    #norm_sum_y = (np.sum(np.abs(bout_data['acc_y_data']- global_mean_y))/global_mean_y) /total_steps\n",
        "\n",
        "    #norm_sum_x = (np.sum(np.abs(bout_data['acc_x_data']- global_mean_x))/global_mean_x) /total_steps\n",
        "\n",
        "    #norm_sum_z = (np.sum(np.abs(bout_data['acc_z_data']- global_mean_z))/global_mean_z) /total_steps\n",
        "\n",
        "\n",
        "    # Store the results\n",
        "    normalized_sums_y.append(norm_sum_y)\n",
        "    normalized_sums_x.append(norm_sum_x)\n",
        "    normalized_sums_z.append(norm_sum_z)\n",
        "    bouts.append(bout)\n",
        "\n",
        "# Create line plots\n",
        "plt.figure(figsize=(15, 6))\n",
        "\n",
        "# Plotting each axis data as a line\n",
        "plt.plot(bouts, normalized_sums_y, marker='o', label='Normalized Y')\n",
        "plt.plot(bouts, normalized_sums_x, marker='o', label='Normalized X')\n",
        "plt.plot(bouts, normalized_sums_z, marker='o', label='Normalized Z')\n",
        "\n",
        "# Adding labels and title\n",
        "plt.xlabel('Crutch Bout')\n",
        "plt.ylabel('Normalized Sum')\n",
        "plt.title('Accelerometer data across bouts for '+ crutch_type)\n",
        "plt.xticks(bouts)\n",
        "plt.legend()\n",
        "\n",
        "save_image('Acc_bouts', crutch_type)\n",
        "\n",
        "# Show the plot\n",
        "plt.show()\n",
        "\n",
        "\n"
      ],
      "metadata": {
        "id": "sIl04FrcPOdr"
      },
      "execution_count": null,
      "outputs": []
    },
    {
      "cell_type": "markdown",
      "source": [
        "## Experimental Metrics"
      ],
      "metadata": {
        "id": "oal_C_W6iXJD"
      }
    },
    {
      "cell_type": "markdown",
      "source": [
        "#### Subjective metrics"
      ],
      "metadata": {
        "id": "d6bL0pX2PbT5"
      }
    },
    {
      "cell_type": "code",
      "source": [
        "Sum_subjective_metrics = np.sum(subjective_crutch_results)\n",
        "\n",
        "weighted_sum_subjective_metrics = np.round(Sum_subjective_metrics*Metric_weighting_values_dict['Impact_Subj_metrics'],1)\n",
        "print('Sum of subjective metrics = ' + str(Sum_subjective_metrics))\n",
        "print('Weighted sum of subjective metrics = ' + str(weighted_sum_subjective_metrics))\n"
      ],
      "metadata": {
        "id": "7XEzh6fbzaHg"
      },
      "execution_count": null,
      "outputs": []
    },
    {
      "cell_type": "markdown",
      "source": [
        "#### Objective metrics"
      ],
      "metadata": {
        "id": "eW1-nNvWPeAi"
      }
    },
    {
      "cell_type": "code",
      "source": [
        "\n",
        "\n",
        "def experiment_summary_metric_calc(y, x, z, weight_values):\n",
        "  bouts_num_diff = weight_values['bouts_num_diff']\n",
        "\n",
        "  Y_change = np.round(np.abs(np.sum(normalized_sums_y[0:bouts_num_diff]) - np.sum(normalized_sums_y[-bouts_num_diff:]))/weight_values['Y_change'], 1)\n",
        "\n",
        "  X_Z_change = np.round(\n",
        "      (np.abs(np.sum(normalized_sums_x[0:bouts_num_diff]) - np.sum(normalized_sums_x[-bouts_num_diff:])) +\n",
        "        np.abs(np.sum(normalized_sums_z[0:bouts_num_diff]) - np.sum(normalized_sums_z[-bouts_num_diff:]))\n",
        "        ) /weight_values['X_Z_change'] ,1)\n",
        "\n",
        "  Y_total = np.round(np.sum(normalized_sums_y) / weight_values[\"Y_total\"],1)\n",
        "  #absolute_X_Z = -(np.sum(normalized_sums_x) + np.sum(normalized_sums_z))\n",
        "\n",
        "  #summary_metric_woEM = np.round(Y_change + X_Z_change + absolute_Y/weight_values[2],1)\n",
        "\n",
        "\n",
        "  return(Y_change, X_Z_change, Y_total)\n"
      ],
      "metadata": {
        "id": "M7aaZvHoMGWl"
      },
      "execution_count": null,
      "outputs": []
    },
    {
      "cell_type": "code",
      "source": [
        "Y_change, X_Z_change, Y_total = experiment_summary_metric_calc(normalized_sums_y,\n",
        "                                                                  normalized_sums_x,\n",
        "                                                                  normalized_sums_z,\n",
        "                                                                  Metric_weighting_values_dict)\n",
        "\n",
        "\n",
        "\n",
        "\n",
        "#total_num_steps\n",
        "\n",
        "Total_step_freq_variation = np.round(np.sum(step_frequency_std_per_bout)  ,1)\n",
        "\n",
        "Adjusted_Step_freq = np.round(Metric_weighting_values_dict['step_freq']/np.mean(average_step_frequency_per_bout),1)\n",
        "\n",
        "adjusted_HR_change = np.round(HR_change_raw/Metric_weighting_values_dict['HR_change'],1)\n",
        "\n",
        "objective_metrics_results = [adjusted_HR_change, Total_step_freq_variation, Adjusted_Step_freq, Y_change, X_Z_change, Y_total]\n",
        "\n",
        "Sum_objective_metrics = np.round(np.sum( objective_metrics_results ),1)\n",
        "\n",
        "\n",
        "print(f\"\"\"Y_change: {Y_change}\n",
        "X_Z_change: {X_Z_change}\n",
        "Y_total: {Y_total}\n",
        "Total_step_freq_variation: {Total_step_freq_variation}\n",
        "Adjusted_Step_freq: {Adjusted_Step_freq}\n",
        "adjusted_HR_change: {adjusted_HR_change}\n",
        "\"\"\")\n",
        "\n",
        "print(\"Sum of objective metrics = \" + str(Sum_objective_metrics))\n",
        "\n",
        "weighted_sum_objective_metrics = np.round(Sum_objective_metrics*Metric_weighting_values_dict['Impact_Obj_metrics'],1)\n",
        "\n",
        "print(\"Weighted Sum of objective metrics = \" + str(weighted_sum_objective_metrics))\n",
        "\n"
      ],
      "metadata": {
        "id": "HOgFZCC1KXn2"
      },
      "execution_count": null,
      "outputs": []
    },
    {
      "cell_type": "markdown",
      "source": [
        "#### Simulated metrics"
      ],
      "metadata": {
        "id": "xYK6yBbqUvhj"
      }
    },
    {
      "cell_type": "code",
      "source": [
        "\n",
        "simulated_metrics = 0\n",
        "\n",
        "weighted_simulated_metrics = simulated_metrics*Metric_weighting_values_dict['Impact_Sim_metrics']\n",
        "\n"
      ],
      "metadata": {
        "id": "baLfgqeMUxJd"
      },
      "execution_count": null,
      "outputs": []
    },
    {
      "cell_type": "markdown",
      "source": [
        "#### Combined metrics"
      ],
      "metadata": {
        "id": "Bkxj91f9U1TG"
      }
    },
    {
      "cell_type": "code",
      "source": [
        "total_sum_objective_subjective =  weighted_sum_objective_metrics + weighted_sum_subjective_metrics + weighted_simulated_metrics\n",
        "print(f\"Sum of weighted objective, subjective and simulated metrics for crutch {crutch_type}  = {total_sum_objective_subjective}\")\n"
      ],
      "metadata": {
        "id": "K7aHrCHjStSK"
      },
      "execution_count": null,
      "outputs": []
    },
    {
      "cell_type": "markdown",
      "source": [
        "## Loading Experiment_Metrics datasets\n",
        "\n"
      ],
      "metadata": {
        "id": "0GiZUPHscnLp"
      }
    },
    {
      "cell_type": "code",
      "source": [
        "def load_pickle_file(file_path):\n",
        "    \"\"\"Load a pickle file from the given file path.\"\"\"\n",
        "    try:\n",
        "        with open(file_path, 'rb') as file:\n",
        "            return pickle.load(file)\n",
        "    except Exception as e:\n",
        "        raise IOError(f\"Error loading pickle file: {e}\")\n",
        "\n",
        "\n",
        "def load_pickle_experiment_dict(Experiment):\n",
        "    \"\"\"Load Experiment metrics dictionary from a pickle file based on the Experiment identifier.\"\"\"\n",
        "    # Validate the Experiment parameter\n",
        "    if not isinstance(Experiment, str):\n",
        "        raise ValueError(\"Experiment must be a string identifier\")\n",
        "\n",
        "    base_path = '/content/drive/My Drive/MLPhys Crutches/Experiments/Experiment_metrics'\n",
        "    file_path = f'{base_path}/Experiment_metrics_{Experiment}.pkl'\n",
        "\n",
        "    if Experiment == 'EMPTY':\n",
        "        return {}\n",
        "\n",
        "    if os.path.exists(file_path):\n",
        "        print(f\"Loading up {Experiment} Experiment Metrics! \")\n",
        "        return load_pickle_file(file_path)\n",
        "    else:\n",
        "        print(f\"No metrics file found for Experiments {Experiment}, loading from ALL\")\n",
        "        # Fallback to ALL file if specific file does not exist\n",
        "        all_file_path = f'{base_path}/Experiment_metrics_ALL.pkl'\n",
        "        if os.path.exists(all_file_path):\n",
        "            return load_pickle_file(all_file_path)\n",
        "        else:\n",
        "            raise FileNotFoundError(f\"No metrics file found for ALL Experiments {Experiment}\")\n"
      ],
      "metadata": {
        "id": "ULdxAiVtwzfM"
      },
      "execution_count": null,
      "outputs": []
    },
    {
      "cell_type": "code",
      "source": [
        "\n",
        "def convert_experiment_dict_to_df(Experiment_metrics_dict, previous_df = None):\n",
        "  crutch_values_column_names = [\"crutch_name\", \"alpha\", \"beta\", \"gamma\"]\n",
        "  subjective_column_names = [\"subjective_joint_pain\", \"subjective_instability\", \"subjective_effort\"]\n",
        "  objective_clumn_names = [\"HR_change\", 'total_step_freq_variation', 'Step_freq', 'Y_change', 'X_Z_change', 'total_Y' ]\n",
        "  simulation_col_name = ['Simulated_weighted']\n",
        "  totals_col_name = ['Total_weighted_subjective', 'Total_weighted_objective', 'Total_Combined_Loss']\n",
        "\n",
        "\n",
        "  all_column_names = crutch_values_column_names + subjective_column_names + objective_clumn_names + simulation_col_name + totals_col_name\n",
        "\n",
        "  if previous_df == None:\n",
        "    Experiment_metrics_df = pd.DataFrame(columns=all_column_names)\n",
        "  else:\n",
        "    Experiment_metrics_df = previous_df\n",
        "\n",
        "  # Iterate over each key-value pair in Experiment_metrics_dict\n",
        "  for crutch, metrics in Experiment_metrics_dict.items():\n",
        "      # Check if the current 'crutch' is not in the 'crutch_name' column\n",
        "      if crutch not in Experiment_metrics_df['crutch_name'].values:\n",
        "          # Add the metrics to the DataFrame\n",
        "          Experiment_metrics_df.loc[len(Experiment_metrics_df)] = metrics\n",
        "          print(f\"Adding {crutch} to Experiment_metrics_df\")\n",
        "\n",
        "  return(Experiment_metrics_df)\n",
        "\n"
      ],
      "metadata": {
        "id": "aa5ucrHWrVHW"
      },
      "execution_count": null,
      "outputs": []
    },
    {
      "cell_type": "code",
      "source": [
        "#Experiment_metrics_dict = load_pickle_experiment_dict(EXPERIMENT)\n"
      ],
      "metadata": {
        "id": "-9JD24GgctE_"
      },
      "execution_count": null,
      "outputs": []
    },
    {
      "cell_type": "code",
      "source": [
        "#convert_experiment_dict_to_df(Experiment_metrics_dict)"
      ],
      "metadata": {
        "id": "gb5IEpGNY3fD"
      },
      "execution_count": null,
      "outputs": []
    },
    {
      "cell_type": "markdown",
      "source": [
        "## Updating experimental metrics & saving"
      ],
      "metadata": {
        "id": "x7BhS1CiEfJS"
      }
    },
    {
      "cell_type": "code",
      "source": [
        "#Experiment_metrics_dict.pop('NHS', None)\n",
        "#Experiment_metrics_dict"
      ],
      "metadata": {
        "id": "-vthu0_HazWO"
      },
      "execution_count": null,
      "outputs": []
    },
    {
      "cell_type": "code",
      "source": [
        "# ADDING ALL METRICS\n",
        "\n",
        "\n",
        "if crutch_type not in Experiment_metrics_dict:\n",
        "  Experiment_metrics_dict[crutch_type] = [crutch_type] + crutch_parameters + \\\n",
        "                                        subjective_crutch_results + \\\n",
        "                                        objective_metrics_results + \\\n",
        "                                        [weighted_simulated_metrics] + \\\n",
        "                                        [weighted_sum_subjective_metrics] + \\\n",
        "                                        [weighted_sum_objective_metrics] + \\\n",
        "                                        [total_sum_objective_subjective]\n",
        "\n",
        "\n",
        "\n",
        "\n",
        "  print(f\"Key '{crutch_type}' metrics added to the Experiment_metrics_dict.\")\n",
        "else:\n",
        "  print(f\"'{crutch_type}' metrics already in Experiment_metrics_dict.\")\n",
        "\n"
      ],
      "metadata": {
        "id": "FO3xWlY5PVD6"
      },
      "execution_count": null,
      "outputs": []
    },
    {
      "cell_type": "code",
      "source": [
        "\n",
        "#SAVING DICT IN APPROPRIATE LOCATIONS\n",
        "\n",
        "# SAVE every run to an Experiment_metrics_ALL\n",
        "file_path = f'/content/drive/My Drive/MLPhys Crutches/Experiments/Experiment_metrics/Experiment_metrics_ALL.pkl'\n",
        "try:\n",
        "    with open(file_path, 'wb') as file:\n",
        "        pickle.dump(Experiment_metrics_dict, file)\n",
        "    print(f\"{crutch_type} experiment_metrics saved to ALL pickle file.\")\n",
        "except Exception as e:\n",
        "    print(f\"Error saving to pickle file: {e}\")\n",
        "\n",
        "\n",
        "# SAVE every run to an Experiment_metrics_ALL\n",
        "file_path = f'/content/drive/My Drive/MLPhys Crutches/Experiments/Experiment_metrics/Experiment_metrics_Sensitivity_analysis.pkl'\n",
        "try:\n",
        "    with open(file_path, 'wb') as file:\n",
        "        pickle.dump(Experiment_metrics_dict, file)\n",
        "    print(f\"{crutch_type} experiment_metrics saved to Sensitivity_analysis pickle file.\")\n",
        "except Exception as e:\n",
        "    print(f\"Error saving to pickle file: {e}\")\n",
        "\n",
        "\n",
        "\n",
        "if crutch_type in Initial_crutches_BO_loop:\n",
        "  print(f\"{crutch_type} experiment_metrics saved to {EXPERIMENT} as PRIOR.\")\n",
        "else:\n",
        "  print(f\"{crutch_type} experiment_metrics saved to {EXPERIMENT} as NEW DATA.\")\n",
        "\n",
        "file_path = f'/content/drive/My Drive/MLPhys Crutches/Experiments/Experiment_metrics/Experiment_metrics_{EXPERIMENT}.pkl'\n",
        "\n",
        "try:\n",
        "  with open(file_path, 'wb') as file:\n",
        "      pickle.dump(Experiment_metrics_dict, file)\n",
        "  print(f\"Experiment_metrics successfully saved to {EXPERIMENT} pickle file.\")\n",
        "  #print(f\"{crutch_type} experiment_metrics successfully saved to {EXPERIMENT} pickle file.\")\n",
        "\n",
        "except Exception as e:\n",
        "  print(f\"Error saving to pickle file: {e}\")\n",
        "\n",
        "\n",
        "\n"
      ],
      "metadata": {
        "id": "WaqbO5JOY-6B"
      },
      "execution_count": null,
      "outputs": []
    },
    {
      "cell_type": "code",
      "source": [
        "Experiment_metrics_df = convert_experiment_dict_to_df(Experiment_metrics_dict)\n",
        "Experiment_metrics_df\n"
      ],
      "metadata": {
        "id": "zv7_hOmBcRar"
      },
      "execution_count": null,
      "outputs": []
    },
    {
      "cell_type": "code",
      "source": [],
      "metadata": {
        "id": "ExpUVZ3VefRG"
      },
      "execution_count": null,
      "outputs": []
    },
    {
      "cell_type": "code",
      "source": [
        "## IF NEED TO ADJUST EXPERIMENT METRICS MANUALLY\n",
        "\"\"\"\n",
        "Experiment_metrics. pop('90_140_90', None)\n",
        "Experiment_metrics\n",
        "\"\"\""
      ],
      "metadata": {
        "id": "qs2AhTZwbaHV"
      },
      "execution_count": null,
      "outputs": []
    },
    {
      "cell_type": "markdown",
      "source": [
        "## Correlations amongst results"
      ],
      "metadata": {
        "id": "Mnz85MwcezXo"
      }
    },
    {
      "cell_type": "code",
      "source": [
        "EXPERIMENT = 'Sensitivity_analysis'\n",
        "\n",
        "Experiment_metrics_dict = load_pickle_experiment_dict(EXPERIMENT)\n",
        "Experiment_metrics_df = convert_experiment_dict_to_df(Experiment_metrics_dict)\n",
        "Experiment_metrics_df"
      ],
      "metadata": {
        "id": "tGLE_ebGxuNR"
      },
      "execution_count": null,
      "outputs": []
    },
    {
      "cell_type": "code",
      "source": [
        "def is_flexible(name):\n",
        "    return int(name[0].isdigit())\n",
        "\n",
        "Experiment_metrics_df['flexible'] = Experiment_metrics_df['crutch_name'].apply(is_flexible)\n",
        "Experiment_metrics_df['not flexible'] = 1 - Experiment_metrics_df['flexible']\n",
        "\n",
        "print(Experiment_metrics_df.head())"
      ],
      "metadata": {
        "id": "3LxYLrTUA6vr"
      },
      "execution_count": null,
      "outputs": []
    },
    {
      "cell_type": "code",
      "source": [
        "\n",
        "def calculate_all_possible_correlations(df):\n",
        "    \"\"\"\n",
        "    Calculate correlations for all possible group-to-group combinations of columns in the dataframe\n",
        "    while avoiding repetitions.\n",
        "\n",
        "    :param df: The DataFrame containing the data.\n",
        "    :return: A DataFrame containing the correlation values for each group-to-group combination.\n",
        "    \"\"\"\n",
        "    # Excluding the first four columns and taking the next 8 columns\n",
        "    columns = df.columns\n",
        "\n",
        "    # Filter only numeric columns\n",
        "    numeric_columns = df[columns].select_dtypes(include='number').columns\n",
        "    num_cols = len(numeric_columns)\n",
        "\n",
        "    correlations = []\n",
        "    processed_combinations = set()  # Set to keep track of processed combinations\n",
        "\n",
        "    # Loop over all possible group sizes for the first group\n",
        "    for group_size_1 in range(1, num_cols):\n",
        "        # Generate all combinations for the first group\n",
        "        for cols_group_1 in itertools.combinations(numeric_columns, group_size_1):\n",
        "            group_col_name_1 = '_'.join(cols_group_1)\n",
        "            df[group_col_name_1] = df[list(cols_group_1)].sum(axis=1)\n",
        "\n",
        "            # Loop over all possible group sizes for the second group\n",
        "            for group_size_2 in range(1, num_cols - group_size_1 + 1):\n",
        "                # Generate all combinations for the second group\n",
        "                for cols_group_2 in itertools.combinations(numeric_columns, group_size_2):\n",
        "                    if not set(cols_group_1).isdisjoint(set(cols_group_2)):\n",
        "                        continue  # Skip if there is overlap between groups\n",
        "\n",
        "                    group_col_name_2 = '_'.join(cols_group_2)\n",
        "                    df[group_col_name_2] = df[list(cols_group_2)].sum(axis=1)\n",
        "\n",
        "                    # Sort and join group names to create a unique identifier for the combination\n",
        "                    combination_identifier = tuple(sorted([group_col_name_1, group_col_name_2]))\n",
        "\n",
        "                    # Check if this combination has already been processed\n",
        "                    if combination_identifier in processed_combinations:\n",
        "                        continue  # Skip this combination as it's already processed\n",
        "\n",
        "                    # Calculate the correlation between the two groups\n",
        "                    corr_value = df[group_col_name_1].corr(df[group_col_name_2])\n",
        "                    correlations.append({\n",
        "                        'Group 1': group_col_name_1,\n",
        "                        'Group 2': group_col_name_2,\n",
        "                        'Correlation': corr_value\n",
        "                    })\n",
        "\n",
        "                    # Add the combination to the processed set\n",
        "                    processed_combinations.add(combination_identifier)\n",
        "\n",
        "    return pd.DataFrame(correlations)\n",
        "\n",
        "# Example usage\n",
        "# df = your_dataframe\n",
        "# correlation_df = calculate_all_possible_correlations(df)\n"
      ],
      "metadata": {
        "id": "2j7unUqYzTkR"
      },
      "execution_count": null,
      "outputs": []
    },
    {
      "cell_type": "code",
      "source": [
        "\n",
        "def plot_symmetric_pairwise_correlation_heatmap(df, part='full', save_as_pdf=True, filename='/content/drive/My Drive/MLPhys Crutches/Experiments/Plots/Correlation_Heatmap.pdf'):\n",
        "    \"\"\"\n",
        "    Plot a symmetric pairwise correlation heatmap for the DataFrame columns.\n",
        "    The colormap is adjusted so that grey represents a correlation of 0.\n",
        "    Manually drawn light grey grid lines are added between heatmap cells.\n",
        "    Optionally saves the plot as a PDF.\n",
        "\n",
        "    :param df: The DataFrame containing the data.\n",
        "    :param part: String, if 'lower', shows the lower triangular part;\n",
        "                 if 'upper', shows the upper triangular part;\n",
        "                 if 'full', shows the full heatmap.\n",
        "    :param save_as_pdf: Boolean, if True, saves the plot as a PDF.\n",
        "    :param filename: String, the name of the file to save the plot to.\n",
        "    \"\"\"\n",
        "    # Calculate the symmetric pairwise correlation matrix\n",
        "    correlation_matrix = df.corr()\n",
        "\n",
        "    # Creating a mask for the upper or lower triangle\n",
        "    mask = np.zeros_like(correlation_matrix, dtype=bool)\n",
        "\n",
        "    if part == 'lower':\n",
        "        mask[np.triu_indices_from(mask)] = True\n",
        "    elif part == 'upper':\n",
        "        mask[np.tril_indices_from(mask)] = True\n",
        "\n",
        "    # Plot the heatmap\n",
        "    plt.figure(figsize=(12, 10))\n",
        "    ax = sns.heatmap(correlation_matrix, annot=True, cmap='RdBu_r', center=0, fmt=\".2f\", square=True, mask=mask)\n",
        "\n",
        "    # Draw grid lines manually\n",
        "    n_rows, n_cols = correlation_matrix.shape\n",
        "    for i in range(1, n_rows):\n",
        "        ax.axhline(i, color='lightgrey', lw=0.5)\n",
        "        ax.axvline(i, color='lightgrey', lw=0.5)\n",
        "\n",
        "    plt.title(\"Pairwise Correlations between Parameters and Metrics\")\n",
        "    plt.xticks(rotation=65, ha='right')\n",
        "\n",
        "    # Save the plot as a PDF file\n",
        "    if save_as_pdf:\n",
        "        plt.savefig(filename, format='pdf', bbox_inches='tight')\n",
        "\n",
        "    plt.show()\n",
        "\n",
        "# Example usage\n",
        "# plot_symmetric_pairwise_correlation_heatmap(df, part='full', save_as_pdf=True, filename='my_heatmap.pdf')\n"
      ],
      "metadata": {
        "id": "yt57ELNt7x5O"
      },
      "execution_count": null,
      "outputs": []
    },
    {
      "cell_type": "code",
      "source": [
        "#Experiment_metrics_df_sliced = Experiment_metrics_df.iloc[:, 4:]\n",
        "#Experiment_metrics_df_sliced = Experiment_metrics_df_sliced.drop(\"Simulated_weighted\", axis=1)\n",
        "\n",
        "Experiment_metrics_df__except_sim = Experiment_metrics_df.drop(\"Simulated_weighted\", axis=1)\n",
        "plot_symmetric_pairwise_correlation_heatmap(Experiment_metrics_df__except_sim, part = 'full')\n",
        "\n"
      ],
      "metadata": {
        "id": "vveFkhzykE99",
        "colab": {
          "base_uri": "https://localhost:8080/",
          "height": 1000
        },
        "outputId": "3eab1326-6966-447c-8de8-9050c4086edb"
      },
      "execution_count": null,
      "outputs": [
        {
          "output_type": "stream",
          "name": "stderr",
          "text": [
            "<ipython-input-24-d9bffbf8a168>:16: FutureWarning: The default value of numeric_only in DataFrame.corr is deprecated. In a future version, it will default to False. Select only valid columns or specify the value of numeric_only to silence this warning.\n",
            "  correlation_matrix = df.corr()\n"
          ]
        },
        {
          "output_type": "display_data",
          "data": {
            "text/plain": [
              "<Figure size 1200x1000 with 2 Axes>"
            ],
            "image/png": "[encoded data removed]"
          },
          "metadata": {}
        }
      ]
    },
    {
      "cell_type": "code",
      "source": [
        "all_correlations = calculate_all_possible_correlations(Experiment_metrics_df.iloc[:, 4:12])"
      ],
      "metadata": {
        "id": "W8PdFPY_yeaE"
      },
      "execution_count": null,
      "outputs": []
    },
    {
      "cell_type": "code",
      "source": [
        "all_correlations[all_correlations['Correlation'] < -0.4].sort_values(by='Correlation', ascending = True)"
      ],
      "metadata": {
        "id": "YKmRevao0Ehi"
      },
      "execution_count": null,
      "outputs": []
    },
    {
      "cell_type": "code",
      "source": [
        "all_correlations[all_correlations['Correlation'] > 0.85].sort_values(by='Correlation', ascending = False)"
      ],
      "metadata": {
        "id": "4Zh25A6k2UF6"
      },
      "execution_count": null,
      "outputs": []
    },
    {
      "cell_type": "markdown",
      "source": [
        "# BO"
      ],
      "metadata": {
        "id": "J5Kpzj-9nmpV"
      }
    },
    {
      "cell_type": "code",
      "source": [
        "EXPERIMENT = 'BO_loop'\n",
        "\n",
        "Experiment_metrics_dict = load_pickle_experiment_dict(EXPERIMENT)\n",
        "Experiment_metrics_df = convert_experiment_dict_to_df(Experiment_metrics_dict)\n",
        "Experiment_metrics_df"
      ],
      "metadata": {
        "id": "z1AucUFHEX_L"
      },
      "execution_count": null,
      "outputs": []
    },
    {
      "cell_type": "code",
      "source": [
        "Y = np.array(list(Experiment_metrics_df['Total_Combined_Loss'])).reshape(-1, 1)\n",
        "X = Experiment_metrics_df[['alpha', 'beta', 'gamma']].to_numpy()\n",
        "\n",
        "print(X)\n",
        "print(Y)"
      ],
      "metadata": {
        "id": "wPt0lyLbFPV3"
      },
      "execution_count": null,
      "outputs": []
    },
    {
      "cell_type": "code",
      "source": [
        "#Y = np.vstack((Y, [[100]]))\n",
        "\n",
        "#X = np.vstack((X, [[ 75,125,3]]))\n",
        "\n",
        "#print(X)\n",
        "#print(Y)"
      ],
      "metadata": {
        "id": "vEHJehxhxA9j"
      },
      "execution_count": null,
      "outputs": []
    },
    {
      "cell_type": "code",
      "source": [
        "def objective_function(X):\n",
        "    # Assuming 'model' is your pre-trained GPy model\n",
        "    #Y, _ = model.predict(X)\n",
        "    return np.array([[0]])\n",
        "\n",
        "\n",
        "bounds = [\n",
        "    {'name': 'alpha', 'type': 'discrete', 'domain': np.arange(70, 125, 5).tolist()}, # alpha\n",
        "    {'name': 'beta',  'type': 'discrete', 'domain': np.arange(90, 145, 5).tolist()}, # beta\n",
        "    {'name': 'gamma', 'type': 'discrete', 'domain': np.arange(0, 33, 3).tolist()}    # gamma\n",
        "]\n",
        "bounds"
      ],
      "metadata": {
        "id": "iOxXIfM78gSk"
      },
      "execution_count": null,
      "outputs": []
    },
    {
      "cell_type": "code",
      "source": [
        "\n",
        "\"\"\"\n",
        "If we want to add noise to a specific angle, choose the appropriate feature index (0,1,2)\n",
        "and set chosen_dim to that index.\n",
        "To use this modified kernel in the BO, set its kernel to \"ker\"\n",
        "\"\"\"\n",
        "\n",
        "\n",
        "chosen_dim = 1   # dim 1 corresponds to the angle BETA: between the forearm and the hand grip. This is the hardest to calculate\n",
        "noise_level =  1.05 #  Metric_weighting_values_dict['Dim_beta_kern_noise']\n",
        "ker1 = GPy.kern.White(input_dim=1, variance = noise_level, active_dims=[chosen_dim])\n",
        "ker2 = GPy.kern.src.stationary.Matern52(3, variance=1, lengthscale=3)\n",
        "ker = GPy.kern.src.add.Add([ker1, ker2])\n",
        "ker = ker1 * ker2\n",
        "\n",
        "myBopt = BayesianOptimization(f=objective_function,               # Objective function\n",
        "                              domain = bounds,                    # Domain\n",
        "                              model_type='GP',                    # Model type, using Gaussian Process\n",
        "                              acquisition_type='EI',              # Acquisition type, using Expected Improvement\n",
        "                              exact_feval=True,                   # Exact evaluations of the objective\n",
        "                              initial_design_numdata=X.shape[0],  # Number of initial points\n",
        "                              kernel = ker)\n",
        "\n",
        "\n",
        "# Here go the initial points and their corresponding values.\n",
        "# We do it this way because we don't really have access to the true function, so we will run\n",
        "# just 1 interation of the BO loop, run the experiment, and add the suggested point to the initial points\n",
        "# When testing, if we have access to the actual function, things can be more speedy :)\n",
        "# In this case, change the initial_design_numdata AND comment out the lines \"myBopt.X = ... and myyBopt.Y = ...\"\n",
        "\n",
        "myBopt.X = X\n",
        "myBopt.Y = Y\n",
        "\n",
        "\n",
        "max_iter = 1  # Define the number of iterations\n",
        "myBopt.run_optimization(max_iter)\n",
        "\n",
        "print(\"Best found parameters:\", myBopt.x_opt)\n",
        "print(\"Objective function value at x_opt:\", myBopt.fx_opt)\n",
        "\n",
        "# Since we are getting only one data point, there is no need to plot.\n",
        "#myBopt.plot_convergence()\n",
        "\n",
        "\n"
      ],
      "metadata": {
        "id": "JjzKgsJ9_BE-"
      },
      "execution_count": null,
      "outputs": []
    },
    {
      "cell_type": "code",
      "source": [
        "K = GPy.kern.src.stationary.Matern52(3, variance=1, lengthscale=3)\n",
        "dir(K)\n",
        "print(K.input_sensitivity())"
      ],
      "metadata": {
        "id": "dU7xxSeitjTs"
      },
      "execution_count": null,
      "outputs": []
    },
    {
      "cell_type": "code",
      "source": [
        "print(dir(myBopt))\n",
        "#myBopt.save_report(\"/content/test\")\n",
        "print(dir(myBopt.model))\n",
        "print(type(myBopt.model))\n",
        "print()\n",
        "print(myBopt.domain)"
      ],
      "metadata": {
        "id": "kepRfmkx3PGR"
      },
      "execution_count": null,
      "outputs": []
    },
    {
      "cell_type": "code",
      "source": [
        "print(myBopt.model.model)\n",
        "print()\n",
        "print(myBopt.model.get_model_parameters_names())"
      ],
      "metadata": {
        "id": "u9YoEDgR4KDU"
      },
      "execution_count": null,
      "outputs": []
    },
    {
      "cell_type": "code",
      "source": [
        "\"\"\"\n",
        "bounds = [\n",
        "    {'name': 'alpha', 'type': 'discrete', 'domain': np.arange(70, 120, 10).tolist()},  # alpha\n",
        "    {'name': 'beta', 'type': 'discrete', 'domain': np.arange(90, 140, 10).tolist()}, # beta\n",
        "    {'name': 'gamma', 'type': 'discrete', 'domain': np.arange(0, 30, 10).tolist()} #gamma\n",
        "]\"\"\"\n",
        "def get_covariance_matrix(myBopt: BayesianOptimization) -> np.ndarray:\n",
        "    \"\"\"\n",
        "    Given a domain and a BayesianOptimization object, return a matrix where each entry is\n",
        "    the uncertainty of the model at that point.\n",
        "    \"\"\"\n",
        "    alphas = np.arange(70, 125, 5).tolist()\n",
        "    betas  = np.arange(90, 145, 5).tolist()\n",
        "    gammas = np.arange(0, 33, 3).tolist()\n",
        "    #print(len(alphas))\n",
        "\n",
        "    matrix = np.ones((len(alphas), len(betas), len(gammas)))* -1\n",
        "\n",
        "    for alpha_index, alpha in enumerate(alphas):\n",
        "        for beta_index, beta in enumerate(betas):\n",
        "            for gamma_index, gamma in enumerate(gammas):\n",
        "                point = np.array([[alpha, beta, gamma]])\n",
        "                matrix[alpha_index, beta_index, gamma_index] = myBopt.model.predict(point, with_noise=False)[1]\n",
        "\n",
        "    return matrix\n",
        "\n"
      ],
      "metadata": {
        "id": "It2o-EzN51Xc"
      },
      "execution_count": null,
      "outputs": []
    },
    {
      "cell_type": "code",
      "source": [
        "res = get_covariance_matrix(myBopt)\n",
        "print(type(res))\n",
        "print(res.size)\n",
        "print(res)\n",
        "print((res < 0.8).sum())"
      ],
      "metadata": {
        "id": "CqPgQLA88G0w"
      },
      "execution_count": null,
      "outputs": []
    },
    {
      "cell_type": "markdown",
      "source": [
        "# Visualization"
      ],
      "metadata": {
        "id": "x66pNnIYyFvr"
      }
    },
    {
      "cell_type": "code",
      "source": [
        "EXPERIMENT = 'BO_loop'\n",
        "\n",
        "bo_loop_dict = load_pickle_experiment_dict(EXPERIMENT)\n",
        "bo_loop_df = convert_experiment_dict_to_df(bo_loop_dict)\n",
        "bo_loop_df"
      ],
      "metadata": {
        "id": "zmo4PB8wpLJa"
      },
      "execution_count": null,
      "outputs": []
    },
    {
      "cell_type": "code",
      "source": [
        "import matplotlib.pyplot as plt\n",
        "import numpy as np\n",
        "from matplotlib.colors import LinearSegmentedColormap\n",
        "\n",
        "# Creating a custom color map: green (low) to red (high)\n",
        "colors = [\"#6AA84F\", \"#FFD966\", \"#CC0000\"]\n",
        "cmap_name = 'green_red'\n",
        "n_bins = 100  # Discretizes the interpolation into bins\n",
        "custom_cmap = LinearSegmentedColormap.from_list(cmap_name, colors, N=n_bins)\n",
        "\n",
        "alpha = bo_loop_df['alpha']\n",
        "beta = bo_loop_df['beta']\n",
        "gamma = bo_loop_df['gamma']\n",
        "values = bo_loop_df['Total_Combined_Loss']\n",
        "\n",
        "# Create a 3D plot\n",
        "fig = plt.figure(figsize=(8, 6))\n",
        "ax = fig.add_subplot(111, projection='3d')\n",
        "\n",
        "# Scatter plot: using alpha, beta, gamma as coordinates and values for color\n",
        "img = ax.scatter(alpha, beta, gamma, c=values, cmap=custom_cmap, alpha=1.0, s=40)\n",
        "\n",
        "# Connecting all points with a line\n",
        "ax.plot(alpha, beta, gamma, color='gray', marker=None, linestyle=\"-\", alpha=.6)\n",
        "\n",
        "# Annotations for start and end points\n",
        "ax.text(alpha.iloc[0], beta.iloc[0], gamma.iloc[0], \"Start\", color='black')\n",
        "ax.text(alpha.iloc[-1], beta.iloc[-1], gamma.iloc[-1], \"End\", color='black')\n",
        "\n",
        "# Customization\n",
        "ax.set_xlabel('Alpha Axis')\n",
        "ax.set_ylabel('Beta Axis')\n",
        "ax.set_zlabel('Gamma Axis')\n",
        "ax.set_title('3D Cube Plot with Colored Dots and Trajectory Line')\n",
        "fig.colorbar(img, ax=ax, label='Value')\n",
        "\n",
        "# Show plot\n",
        "plt.show()"
      ],
      "metadata": {
        "id": "VnexC6cmW5KY"
      },
      "execution_count": null,
      "outputs": []
    },
    {
      "cell_type": "code",
      "source": [
        "Y = Experiment_metrics_df['Total_Combined_Loss']\n",
        "Y = np.array(list(Y)).reshape(-1, 1)\n",
        "X = Experiment_metrics_df[['alpha', 'beta', 'gamma']]\n",
        "X = X.to_numpy()\n",
        "\n",
        "print(X)\n",
        "print(Y)"
      ],
      "metadata": {
        "id": "MvFBeA7hXFkm"
      },
      "execution_count": null,
      "outputs": []
    },
    {
      "cell_type": "code",
      "source": [
        "np.random.seed(42)\n",
        "\n",
        "losses = {}\n",
        "for l in [3, 8, 15, 25]:\n",
        "  kernel = GPy.kern.Matern52(input_dim=X.shape[1], variance=1., lengthscale=l)\n",
        "  model = GPy.models.GPRegression(X, Y, kernel, noise_var=1.0)\n",
        "  losses[l] = []\n",
        "  alpha = []\n",
        "  beta = []\n",
        "  gamma = []\n",
        "  for i, a in enumerate(np.arange(70, 145, 5)):\n",
        "      for j, b in enumerate(np.arange(90, 145, 5)):\n",
        "          for k, c in enumerate(np.arange(0, 33, 3)):\n",
        "              if a + b < 190:\n",
        "                continue\n",
        "              mean = model.predict(np.array([[a, b, c]]))[0]\n",
        "              alpha.append(a)\n",
        "              beta.append(b)\n",
        "              gamma.append(c)\n",
        "              losses[l].append(mean.flatten().item())\n",
        "print(len(losses[3]))"
      ],
      "metadata": {
        "id": "kkz53mBxXIgI"
      },
      "execution_count": null,
      "outputs": []
    },
    {
      "cell_type": "code",
      "source": [
        "import plotly.graph_objects as go\n",
        "import numpy as np\n",
        "\n",
        "# Your custom color map in matplotlib\n",
        "colors = [\"#6AA84F\", \"#FFD966\", \"#CC0000\"]\n",
        "loss_colors = [\"#00FFFF\", \"#0047AB\"]\n",
        "n_bins = 100\n",
        "\n",
        "# Convert matplotlib colormap to Plotly\n",
        "plotly_cmap = []\n",
        "for i in range(n_bins):\n",
        "    frac = i / (n_bins - 1)\n",
        "    r, g, b, _ = LinearSegmentedColormap.from_list(\"\", colors)(frac)\n",
        "    plotly_cmap.append([frac, f'rgb({r*255:.0f},{g*255:.0f},{b*255:.0f})'])\n",
        "\n",
        "loss_cmap = []\n",
        "for i in range(n_bins):\n",
        "    frac = i / (n_bins - 1)\n",
        "    r, g, b, _ = LinearSegmentedColormap.from_list(\"\", loss_colors)(frac)\n",
        "    loss_cmap.append([frac, f'rgb({r*255:.0f},{g*255:.0f},{b*255:.0f})'])\n",
        "\n",
        "alpha = pd.Series(alpha)\n",
        "beta = pd.Series(beta)\n",
        "gamma = pd.Series(gamma)\n",
        "values = pd.Series(losses[15])\n",
        "\n",
        "# Normalize values for color mapping\n",
        "values_normalized = (values - values.min()) / (values.max() - values.min())\n",
        "\n",
        "# Create a 3D scatter plot\n",
        "myfig = go.Figure(data=[go.Scatter3d(\n",
        "    x=alpha,\n",
        "    y=beta,\n",
        "    z=gamma,\n",
        "    mode='markers',\n",
        "    marker=dict(\n",
        "        size=20,\n",
        "        color=values_normalized,    # Use normalized values for color\n",
        "        colorscale=loss_cmap,\n",
        "        colorbar=dict(title='Loss'),\n",
        "        opacity=.1\n",
        "    ),\n",
        "    showlegend=False,\n",
        ")])\n",
        "\n",
        "myfig.add_trace(go.Scatter3d(\n",
        "    x=X[:, 0],\n",
        "    y=X[:, 1],\n",
        "    z=X[:, 2],\n",
        "    mode='markers',\n",
        "    marker=dict(\n",
        "        size=10,                   # Larger size for visibility\n",
        "        color=Y[:, 0],             # Black color\n",
        "        colorscale=loss_cmap,\n",
        "        # colorbar=dict(title='Mean'),\n",
        "        opacity=1\n",
        "    ),\n",
        "    showlegend=False,\n",
        "))\n",
        "\n",
        "myfig.add_trace(go.Scatter3d(\n",
        "    x=[85],\n",
        "    y=[130],\n",
        "    z=[0],\n",
        "    mode='markers',\n",
        "    marker=dict(\n",
        "        size=10,                   # Larger size for visibility\n",
        "        color='purple',             # Black color\n",
        "        opacity=1\n",
        "    ),\n",
        "    showlegend=False,\n",
        "))\n",
        "\n",
        "# Customization\n",
        "myfig.update_layout(\n",
        "    title='3D Cube Plot with Colored Dots',\n",
        "    scene=dict(\n",
        "        xaxis_title='Alpha Axis',\n",
        "        yaxis_title='Beta Axis',\n",
        "        zaxis_title='Gamma Axis'\n",
        "    ),\n",
        "    margin=dict(r=0, b=0, l=0, t=0)\n",
        ")\n",
        "\n",
        "myfig.show()"
      ],
      "metadata": {
        "id": "TzysSA0DXL-3"
      },
      "execution_count": null,
      "outputs": []
    },
    {
      "cell_type": "markdown",
      "source": [
        "# Sensitivity analysis"
      ],
      "metadata": {
        "id": "xNXlYl1noAyN"
      }
    },
    {
      "cell_type": "code",
      "source": [
        "Experiment_metrics_df"
      ],
      "metadata": {
        "id": "1E2Z21kjXSsb"
      },
      "execution_count": null,
      "outputs": []
    },
    {
      "cell_type": "code",
      "source": [
        "model = myBopt.model.model\n",
        "\n",
        "emukit_model = GPyModelWrapper(model)\n",
        "\n",
        "parameter_space = ParameterSpace([ContinuousParameter('alpha', 70, 125),\n",
        "                                  ContinuousParameter('beta', 90, 145),\n",
        "                                  ContinuousParameter('gamma', 0, 33)])\n",
        "\n",
        "num_mc_points = 50000  #ramp this up!!\n",
        "print(num_mc_points)\n",
        "\n",
        "sensitivity = MonteCarloSensitivity(model=emukit_model, input_domain=parameter_space)\n",
        "res = sensitivity.compute_effects(num_monte_carlo_points=num_mc_points)\n",
        "\n",
        "print(\"Main Effects:\", main_effects)\n",
        "print(\"Total Effects:\", total_effects)"
      ],
      "metadata": {
        "id": "ru1NddIhXUkS"
      },
      "execution_count": null,
      "outputs": []
    },
    {
      "cell_type": "code",
      "source": [
        "def create_emukit_gp_model(X, Y):\n",
        "    kernel = GPy.kern.Matern52(input_dim=X.shape[1], variance=1., lengthscale=3.)\n",
        "    gp_model = GPy.models.GPRegression(X, Y, kernel)\n",
        "    gp_model.optimize()\n",
        "    return GPyModelWrapper(gp_model)\n",
        "\n",
        "def emukit_sensitivity_analysis(X, Y):\n",
        "    model = create_emukit_gp_model(X, Y)\n",
        "\n",
        "    space = ParameterSpace([\n",
        "        ContinuousParameter('alpha', 70, 125),\n",
        "        ContinuousParameter('beta', 90, 145),\n",
        "        ContinuousParameter('gamma', 0, 33)\n",
        "    ])\n",
        "\n",
        "    sensitivity = MonteCarloSensitivity(model=model, input_domain=space)\n",
        "    main_effects, total_effects, _ = sensitivity.compute_effects(num_monte_carlo_points=50000)\n",
        "\n",
        "    return {'main_effects': main_effects, 'total_effects': total_effects}"
      ],
      "metadata": {
        "id": "bNTSVaJOXYVr"
      },
      "execution_count": null,
      "outputs": []
    },
    {
      "cell_type": "code",
      "source": [
        "SI_per_metric = {}\n",
        "X = Experiment_metrics_df[['alpha', 'beta', 'gamma']].to_numpy()\n",
        "for col in Experiment_metrics_df.columns[4:]:\n",
        "  Y = np.array(list(Experiment_metrics_df[col])).reshape(-1, 1)\n",
        "  SI_per_metric[col] = emukit_sensitivity_analysis(X, Y)\n",
        "SI_per_metric"
      ],
      "metadata": {
        "id": "KDMLkHamXdu_"
      },
      "execution_count": null,
      "outputs": []
    },
    {
      "cell_type": "markdown",
      "source": [
        "# Sensitivity analysis using SALib"
      ],
      "metadata": {
        "id": "7GdEIWeiG_hw"
      }
    },
    {
      "cell_type": "code",
      "source": [
        "def create_gp_model(X, Y):\n",
        "    kernel = GPy.kern.Matern52(input_dim=X.shape[1], variance=1., lengthscale=3.)\n",
        "    model = GPy.models.GPRegression(X, Y, kernel)\n",
        "    model.optimize(messages=True)\n",
        "    return model\n",
        "\n",
        "def sensitivity_analysis(X, Y):\n",
        "    model = create_gp_model(X, Y)\n",
        "\n",
        "    problem = {\n",
        "        'num_vars': X.shape[1],\n",
        "        'names': ['alpha', 'beta', 'gamma'],\n",
        "        'bounds': [[70, 125], [90, 145], [0, 33]]\n",
        "    }\n",
        "\n",
        "    param_values = saltelli.sample(problem, 10_000)\n",
        "\n",
        "    Y_pred = model.predict(param_values)[0]\n",
        "    # print(\"Y_pred: \", Y_pred)\n",
        "\n",
        "    si = sobol.analyze(problem, Y_pred.flatten())\n",
        "\n",
        "    return si"
      ],
      "metadata": {
        "id": "87pj2aLTXgMi"
      },
      "execution_count": null,
      "outputs": []
    },
    {
      "cell_type": "code",
      "source": [
        "SI_per_metric = {}\n",
        "X = Experiment_metrics_df[['alpha', 'beta', 'gamma']].to_numpy()\n",
        "for col in Experiment_metrics_df.columns[4:]:\n",
        "  Y = np.array(list(Experiment_metrics_df[col])).reshape(-1, 1)\n",
        "  SI_per_metric[col] = sensitivity_analysis(X, Y)\n",
        "SI_per_metric"
      ],
      "metadata": {
        "id": "q_ftdNRjXjs_"
      },
      "execution_count": null,
      "outputs": []
    },
    {
      "cell_type": "code",
      "source": [
        "def get_s2_interactions(s2):\n",
        "  alpha_beta = s2[0,1]\n",
        "  alpha_gamma = s2[0,2]\n",
        "  beta_gamma = s2[1,2]\n",
        "  return alpha_beta, alpha_gamma, beta_gamma\n",
        "\n",
        "get_s2_interactions(SI_per_metric[\"Total_Combined_Loss\"][\"S2\"])"
      ],
      "metadata": {
        "id": "GptFKpQaXlup"
      },
      "execution_count": null,
      "outputs": []
    },
    {
      "cell_type": "code",
      "source": [
        "import matplotlib.pyplot as plt\n",
        "import seaborn as sns\n",
        "import numpy as np\n",
        "\n",
        "SI_per_metric.pop(\"Simulated_weighted\", None)\n",
        "\n",
        "# Names for the columns\n",
        "column_names = ['alpha', 'beta', 'gamma', 'alpha-beta', 'alpha-gamma', 'beta-gamma', 'alpha (T)', 'beta (T)', 'gamma (T)']\n",
        "\n",
        "# Prepare the 2D array for the heatmap and row labels\n",
        "heatmap_data = []\n",
        "row_labels = list(SI_per_metric.keys())\n",
        "\n",
        "for key in SI_per_metric.keys():\n",
        "    s1_values = SI_per_metric[key]['S1']\n",
        "    s2_values = get_s2_interactions(SI_per_metric[key]['S2'])\n",
        "    sT_values = SI_per_metric[key]['ST']\n",
        "    heatmap_data.append(np.concatenate([s1_values, s2_values, sT_values]))\n",
        "\n",
        "heatmap_data = np.array(heatmap_data).T\n",
        "\n",
        "# Create the heatmapplt.figure(figsize=(len(SI_per_metric), 8))\n",
        "plt.figure(figsize=(len(row_labels), 8))\n",
        "ax = sns.heatmap(heatmap_data, annot=True, xticklabels=row_labels, yticklabels=column_names, cmap='viridis', square=True)\n",
        "plt.title('Sensitivity Analysis')\n",
        "\n",
        "ax.axhline(y=3, color='white', lw=8)  # After S1 values\n",
        "ax.axhline(y=6, color='white', lw=8)  # After S2 values\n",
        "\n",
        "plt.xticks(rotation=65, ha='right')\n",
        "plt.savefig(\"sensitivity_analysis_l15\")\n",
        "plt.show()"
      ],
      "metadata": {
        "id": "TVqzMmDQXohD"
      },
      "execution_count": null,
      "outputs": []
    },
    {
      "cell_type": "code",
      "source": [
        "import matplotlib.pyplot as plt\n",
        "import seaborn as sns\n",
        "import numpy as np\n",
        "\n",
        "# Prepare the 2D arrays for the S1 values and the S1_conf values\n",
        "s1_conf_values = np.array([d['S1_conf'] for d in SI_per_metric.values()]).flatten()\n",
        "s2_conf_values = np.array([d['S2_conf'] for d in SI_per_metric.values()]).flatten()\n",
        "sT_conf_values = np.array([d['ST_conf'] for d in SI_per_metric.values()]).flatten()\n",
        "plt.hist(s1_conf_values, bins=np.arange(0, 1.0, 0.01), alpha=0.5, label=\"S1\")\n",
        "plt.hist(s2_conf_values, bins=np.arange(0, 1.0, 0.01), alpha=0.5, label=\"S2\")\n",
        "plt.hist(sT_conf_values, bins=np.arange(0, 1.0, 0.01), alpha=0.5, label=\"ST\")\n",
        "plt.title(\"Histogram of Confidence Intervals\")\n",
        "plt.xlabel(\"Confidence Interval\")\n",
        "plt.ylabel(\"Count\")\n",
        "plt.legend()\n",
        "plt.savefig(\"si_confidence_intervals_l3\")\n",
        "plt.show()"
      ],
      "metadata": {
        "id": "jgCa5dUMXqZn"
      },
      "execution_count": null,
      "outputs": []
    },
    {
      "cell_type": "markdown",
      "source": [
        "# Previous unused code"
      ],
      "metadata": {
        "id": "Z4qDFarzH79F"
      }
    },
    {
      "cell_type": "code",
      "source": [
        "\"\"\"\n",
        "import matplotlib.pyplot as plt\n",
        "import numpy as np\n",
        "import pandas as pd\n",
        "\n",
        "# Assuming Accelerometer_df_only_bouts is your DataFrame\n",
        "\n",
        "# Count the number of unique bouts\n",
        "num_bouts = len(Accelerometer_df_only_bouts['Crutch_bout'].unique())\n",
        "\n",
        "# Determine the 99th percentile range for x-axis and y-axis for each axis\n",
        "percentile_ranges = {}\n",
        "percentile_freqs = {}\n",
        "for axis in ['acc_x_data', 'acc_y_data', 'acc_z_data']:\n",
        "    all_data = np.sqrt(Accelerometer_df_only_bouts[axis]**2)\n",
        "    percentile_ranges[axis] = (0, np.percentile(all_data, 99))\n",
        "\n",
        "    hist, bin_edges = np.histogram(all_data, bins=100, range=(0, percentile_ranges[axis][1]))\n",
        "    percentile_freqs[axis] = np.percentile(hist, 80)\n",
        "\n",
        "# Create subplots\n",
        "fig, axs = plt.subplots(3, num_bouts, figsize=(20, 10), constrained_layout=True)\n",
        "\n",
        "# Iterate over each unique bout\n",
        "for i, bout in enumerate(sorted(Accelerometer_df_only_bouts['Crutch_bout'].unique())):\n",
        "    bout_data = Accelerometer_df_only_bouts[Accelerometer_df_only_bouts['Crutch_bout'] == bout]\n",
        "\n",
        "    for j, axis in enumerate(['acc_x_data', 'acc_y_data', 'acc_z_data']):\n",
        "        Pos_acc = np.sqrt(bout_data[axis]**2)\n",
        "        mean_val = Pos_acc.mean()\n",
        "        std_val = Pos_acc.std()\n",
        "        AUC = Pos_acc.sum()\n",
        "\n",
        "        # Plot histogram in the corresponding subplot\n",
        "        axs[j, i].hist(Pos_acc, bins=100, range=percentile_ranges[axis])\n",
        "        axs[j, i].set_ylim(0, percentile_freqs[axis])\n",
        "        axs[j, i].set_title(f'Bout {bout}\\nAxis: {axis[-1].upper()}\\nMean: {mean_val:.2f}, Std: {std_val:.2f}, \\n Total: {AUC:.2f}')\n",
        "        axs[j, i].set_xlabel('Positive Acceleration')\n",
        "        axs[j, i].set_ylabel('Frequency')\n",
        "\n",
        "# Show the plot\n",
        "plt.show()\n",
        "\"\"\""
      ],
      "metadata": {
        "id": "m74rLREJH_eS"
      },
      "execution_count": null,
      "outputs": []
    },
    {
      "cell_type": "code",
      "source": [
        "\"\"\"\n",
        "import matplotlib.pyplot as plt\n",
        "import numpy as np\n",
        "import pandas as pd\n",
        "\n",
        "# Assuming Accelerometer_df_only_bouts is your DataFrame\n",
        "\n",
        "# Count the number of unique bouts\n",
        "num_bouts = len(Accelerometer_df_only_bouts['Crutch_bout'].unique())\n",
        "\n",
        "# Create a figure with subplots - adding 1 for the combined plot\n",
        "fig, axs = plt.subplots(num_bouts + 1, 1, figsize=(10, 5 * (num_bouts + 1)))\n",
        "\n",
        "# Define a color palette for each subplot for consistency\n",
        "color_palette = plt.cm.viridis(np.linspace(0, 1, num_bouts + 1))\n",
        "\n",
        "# Plot for all bouts combined in the first subplot\n",
        "axs[0].plot(np.abs(Accelerometer_df_only_bouts['acc_x_data']) + Accelerometer_df_only_bouts['acc_z_data'], label='All Bouts Combined', color=color_palette[0])\n",
        "axs[0].set_title('All Bouts Combined', fontsize=14)\n",
        "axs[0].set_xlabel('Index', fontsize=12)\n",
        "axs[0].set_ylabel('Sum of Abs(acc_x_data) and acc_z_data', fontsize=12)\n",
        "axs[0].legend()\n",
        "axs[0].grid(True)  # Add gridlines for easier reading\n",
        "\n",
        "# Iterate over each unique bout for the rest of the subplots\n",
        "for i, bout in enumerate(sorted(Accelerometer_df_only_bouts['Crutch_bout'].unique())):\n",
        "    bout_data = Accelerometer_df_only_bouts[Accelerometer_df_only_bouts['Crutch_bout'] == bout]\n",
        "    axs[i + 1].plot(np.abs(bout_data['acc_x_data']) + bout_data['acc_z_data'], label=f'Bout {bout}', color=color_palette[i + 1])\n",
        "    axs[i + 1].set_title(f'Bout {bout}', fontsize=14)\n",
        "    axs[i + 1].set_xlabel('Index', fontsize=12)\n",
        "    axs[i + 1].set_ylabel('Sum of Abs(acc_x_data) and acc_z_data', fontsize=12)\n",
        "    axs[i + 1].legend()\n",
        "    axs[i + 1].grid(True)  # Add gridlines for easier reading\n",
        "\n",
        "# Adjust layout\n",
        "plt.tight_layout(h_pad=2)  # Add more space between plots\n",
        "\n",
        "# Show the plot\n",
        "plt.show()\n",
        "\n",
        "\"\"\""
      ],
      "metadata": {
        "id": "bZSM01WvIHm9"
      },
      "execution_count": null,
      "outputs": []
    },
    {
      "cell_type": "code",
      "source": [
        "\"\"\"\n",
        "import matplotlib.pyplot as plt\n",
        "import numpy as np\n",
        "import pandas as pd\n",
        "\n",
        "# Assuming Accelerometer_df_only_bouts is your DataFrame\n",
        "\n",
        "# Count the number of unique bouts\n",
        "num_bouts = len(Accelerometer_df_only_bouts['Crutch_bout'].unique())\n",
        "\n",
        "# Create a figure with subplots\n",
        "fig, axs = plt.subplots(1, num_bouts, figsize=(20, 5))\n",
        "\n",
        "# Ensure axs is an array even if there is only one subplot\n",
        "if num_bouts == 1:\n",
        "    axs = [axs]\n",
        "\n",
        "# Iterate over each unique bout\n",
        "for i, bout in enumerate(sorted(Accelerometer_df_only_bouts['Crutch_bout'].unique())):\n",
        "    bout_data = Accelerometer_df_only_bouts[Accelerometer_df_only_bouts['Crutch_bout'] == bout]\n",
        "    Pos_acc = np.sqrt(bout_data['acc_z_data']**2)\n",
        "\n",
        "    mean_val = Pos_acc.mean()\n",
        "    std_val = Pos_acc.std()\n",
        "    AUC = Pos_acc.sum()\n",
        "\n",
        "    # Plot histogram in the ith subplot\n",
        "    axs[i].hist(Pos_acc, bins=100)\n",
        "    axs[i].set_title(f'Bout {bout}\\nMean: {mean_val:.2f}, \\n Std: {std_val:.2f}, \\n total: {AUC:.2f}')\n",
        "    axs[i].set_xlabel('Positive Y Acceleration')\n",
        "    axs[i].set_ylabel('Frequency')\n",
        "    axs[i].set_ylim(0, 250)\n",
        "\n",
        "# Adjust layout\n",
        "#plt.tight_layout()\n",
        "\n",
        "# Show the plot\n",
        "plt.show()\n",
        "\"\"\""
      ],
      "metadata": {
        "id": "YBlSlt2HIRhQ"
      },
      "execution_count": null,
      "outputs": []
    }
  ]
}